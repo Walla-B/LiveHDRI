{
 "cells": [
  {
   "cell_type": "code",
   "execution_count": 172,
   "metadata": {
    "collapsed": true
   },
   "outputs": [],
   "source": [
    "import pycuda.driver as cuda\n",
    "import pycuda.autoinit\n",
    "from pycuda.compiler import SourceModule\n",
    "\n",
    "import numpy as np"
   ]
  },
  {
   "cell_type": "code",
   "execution_count": 173,
   "outputs": [],
   "source": [
    "# create 4x4 numpy random array\n",
    "a = np.random.randn(4,4)"
   ],
   "metadata": {
    "collapsed": false,
    "pycharm": {
     "name": "#%%\n"
    }
   }
  },
  {
   "cell_type": "code",
   "execution_count": 174,
   "outputs": [
    {
     "name": "stdout",
     "output_type": "stream",
     "text": [
      "[[-0.51342129  0.26176578 -2.17623851 -0.49214858]\n",
      " [ 1.39745188 -1.79311957 -0.84478383 -0.04278923]\n",
      " [-1.64701191  1.09121821 -0.42139168 -0.47278904]\n",
      " [-1.08904488  0.02165025  2.00204463  1.59899558]]\n"
     ]
    }
   ],
   "source": [
    "print(a)"
   ],
   "metadata": {
    "collapsed": false,
    "pycharm": {
     "name": "#%%\n"
    }
   }
  },
  {
   "cell_type": "code",
   "execution_count": 175,
   "outputs": [
    {
     "data": {
      "text/plain": "numpy.float64"
     },
     "execution_count": 175,
     "metadata": {},
     "output_type": "execute_result"
    }
   ],
   "source": [
    "# elements of a is numpy.float64(double precision)\n",
    "type(a[1,1])"
   ],
   "metadata": {
    "collapsed": false,
    "pycharm": {
     "name": "#%%\n"
    }
   }
  },
  {
   "cell_type": "code",
   "execution_count": 176,
   "outputs": [],
   "source": [
    "# nvidia devices only support single precision, so typecast\n",
    "a = a.astype(np.float32)"
   ],
   "metadata": {
    "collapsed": false,
    "pycharm": {
     "name": "#%%\n"
    }
   }
  },
  {
   "cell_type": "code",
   "execution_count": 177,
   "outputs": [
    {
     "data": {
      "text/plain": "numpy.float32"
     },
     "execution_count": 177,
     "metadata": {},
     "output_type": "execute_result"
    }
   ],
   "source": [
    "#now type is numpy.float32(single precision)\n",
    "type(a[1,1])"
   ],
   "metadata": {
    "collapsed": false,
    "pycharm": {
     "name": "#%%\n"
    }
   }
  },
  {
   "cell_type": "code",
   "execution_count": 178,
   "outputs": [],
   "source": [
    "#allocate memory on the device to transfer data\n",
    "a_gpu = cuda.mem_alloc(a.nbytes)\n",
    "\n",
    "#next, transfer data to GPU\n",
    "#just like CUDA C, htod : host to device\n",
    "cuda.memcpy_htod(a_gpu,a)"
   ],
   "metadata": {
    "collapsed": false,
    "pycharm": {
     "name": "#%%\n"
    }
   }
  },
  {
   "cell_type": "code",
   "execution_count": 179,
   "outputs": [],
   "source": [
    "#Create a kernel\n",
    "mod = SourceModule(\"\"\"\n",
    "    __global__ void doublify(float *a)\n",
    "    {\n",
    "        int idx = threadIdx.x + threadIdx.y*4;\n",
    "        a[idx] *= 2;\n",
    "    }\n",
    "\"\"\")"
   ],
   "metadata": {
    "collapsed": false,
    "pycharm": {
     "name": "#%%\n"
    }
   }
  },
  {
   "cell_type": "code",
   "execution_count": 180,
   "outputs": [],
   "source": [
    "bdim = (4,4,1)"
   ],
   "metadata": {
    "collapsed": false,
    "pycharm": {
     "name": "#%%\n"
    }
   }
  },
  {
   "cell_type": "code",
   "execution_count": 181,
   "outputs": [],
   "source": [
    "func = mod.get_function(\"doublify\")\n",
    "func(a_gpu, block=bdim)"
   ],
   "metadata": {
    "collapsed": false,
    "pycharm": {
     "name": "#%%\n"
    }
   }
  },
  {
   "cell_type": "code",
   "execution_count": 182,
   "outputs": [],
   "source": [
    "a_doubled = np.empty_like(a)\n",
    "#dtoh : device to host\n",
    "cuda.memcpy_dtoh(a_doubled, a_gpu)"
   ],
   "metadata": {
    "collapsed": false,
    "pycharm": {
     "name": "#%%\n"
    }
   }
  },
  {
   "cell_type": "code",
   "execution_count": 183,
   "outputs": [
    {
     "name": "stdout",
     "output_type": "stream",
     "text": [
      "Before: \n",
      "[[-0.5134213   0.26176578 -2.1762385  -0.49214858]\n",
      " [ 1.3974519  -1.7931195  -0.84478384 -0.04278923]\n",
      " [-1.6470119   1.0912182  -0.42139167 -0.47278905]\n",
      " [-1.0890449   0.02165025  2.0020447   1.5989956 ]]\n",
      "After: \n",
      "[[-1.0268426   0.52353156 -4.352477   -0.98429716]\n",
      " [ 2.7949038  -3.586239   -1.6895677  -0.08557846]\n",
      " [-3.2940238   2.1824365  -0.84278333 -0.9455781 ]\n",
      " [-2.1780899   0.0433005   4.0040894   3.1979911 ]]\n"
     ]
    }
   ],
   "source": [
    "print(\"Before: \")\n",
    "print(a)\n",
    "\n",
    "print(\"After: \")\n",
    "print(a_doubled)"
   ],
   "metadata": {
    "collapsed": false,
    "pycharm": {
     "name": "#%%\n"
    }
   }
  }
 ],
 "metadata": {
  "kernelspec": {
   "display_name": "Python 3",
   "language": "python",
   "name": "python3"
  },
  "language_info": {
   "codemirror_mode": {
    "name": "ipython",
    "version": 2
   },
   "file_extension": ".py",
   "mimetype": "text/x-python",
   "name": "python",
   "nbconvert_exporter": "python",
   "pygments_lexer": "ipython2",
   "version": "2.7.6"
  }
 },
 "nbformat": 4,
 "nbformat_minor": 0
}