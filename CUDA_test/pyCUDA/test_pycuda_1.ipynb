{
 "cells": [
  {
   "cell_type": "code",
   "execution_count": 151,
   "metadata": {
    "collapsed": true
   },
   "outputs": [],
   "source": [
    "import pycuda.driver as cuda\n",
    "import pycuda.autoinit\n",
    "from pycuda.compiler import SourceModule\n",
    "\n",
    "import numpy as np"
   ]
  },
  {
   "cell_type": "code",
   "execution_count": 152,
   "outputs": [],
   "source": [
    "# create 4x4 numpy random array\n",
    "a = np.random.randn(4,4)"
   ],
   "metadata": {
    "collapsed": false,
    "pycharm": {
     "name": "#%%\n"
    }
   }
  },
  {
   "cell_type": "code",
   "execution_count": 153,
   "outputs": [
    {
     "name": "stdout",
     "output_type": "stream",
     "text": [
      "[[ 0.29645637  0.3740677  -0.18154397 -2.56960585]\n",
      " [-1.48196668  0.40002586 -0.09616903 -0.23997804]\n",
      " [-0.52618869 -0.69273117  1.28962305 -0.04621967]\n",
      " [ 0.00796687 -1.026881    1.72005559  0.54959014]]\n"
     ]
    }
   ],
   "source": [
    "print(a)"
   ],
   "metadata": {
    "collapsed": false,
    "pycharm": {
     "name": "#%%\n"
    }
   }
  },
  {
   "cell_type": "code",
   "execution_count": 154,
   "outputs": [
    {
     "data": {
      "text/plain": "numpy.float64"
     },
     "execution_count": 154,
     "metadata": {},
     "output_type": "execute_result"
    }
   ],
   "source": [
    "# elements of a is numpy.float64(double precision)\n",
    "type(a[1,1])"
   ],
   "metadata": {
    "collapsed": false,
    "pycharm": {
     "name": "#%%\n"
    }
   }
  },
  {
   "cell_type": "code",
   "execution_count": 155,
   "outputs": [],
   "source": [
    "# nvidia devices only support single precision, so typecast\n",
    "a = a.astype(np.float32)"
   ],
   "metadata": {
    "collapsed": false,
    "pycharm": {
     "name": "#%%\n"
    }
   }
  },
  {
   "cell_type": "code",
   "execution_count": 156,
   "outputs": [
    {
     "data": {
      "text/plain": "numpy.float32"
     },
     "execution_count": 156,
     "metadata": {},
     "output_type": "execute_result"
    }
   ],
   "source": [
    "#now type is numpy.float32(single precision)\n",
    "type(a[1,1])"
   ],
   "metadata": {
    "collapsed": false,
    "pycharm": {
     "name": "#%%\n"
    }
   }
  },
  {
   "cell_type": "code",
   "execution_count": 157,
   "outputs": [],
   "source": [
    "#allocate memory on the device to transfer data\n",
    "a_gpu = cuda.mem_alloc(a.nbytes)\n",
    "\n",
    "#next, transfer data to GPU\n",
    "#just like CUDA C, htod : host to device\n",
    "cuda.memcpy_htod(a_gpu,a)"
   ],
   "metadata": {
    "collapsed": false,
    "pycharm": {
     "name": "#%%\n"
    }
   }
  },
  {
   "cell_type": "code",
   "execution_count": 158,
   "outputs": [],
   "source": [
    "#Create a kernel\n",
    "mod = SourceModule(\"\"\"\n",
    "    __global__ void doublify(float *a)\n",
    "    {\n",
    "        int idx = threadIdx.x + threadIdx.y*blockDim.x;\n",
    "        a[idx] *= 2;\n",
    "    }\n",
    "\"\"\")"
   ],
   "metadata": {
    "collapsed": false,
    "pycharm": {
     "name": "#%%\n"
    }
   }
  },
  {
   "cell_type": "code",
   "execution_count": 159,
   "outputs": [],
   "source": [
    "#threadsPerBlock\n",
    "threadsPerBlock = (32,32,1)\n",
    "#blocksPerGrid\n",
    "blocksPerGrid = (1,1,1)\n"
   ],
   "metadata": {
    "collapsed": false,
    "pycharm": {
     "name": "#%%\n"
    }
   }
  },
  {
   "cell_type": "code",
   "execution_count": 160,
   "outputs": [],
   "source": [
    "func = mod.get_function(\"doublify\")\n",
    "func(a_gpu, block=threadsPerBlock, grid=blocksPerGrid)"
   ],
   "metadata": {
    "collapsed": false,
    "pycharm": {
     "name": "#%%\n"
    }
   }
  },
  {
   "cell_type": "code",
   "execution_count": 161,
   "outputs": [],
   "source": [
    "a_doubled = np.empty_like(a)\n",
    "#dtoh : device to host\n",
    "cuda.memcpy_dtoh(a_doubled, a_gpu)"
   ],
   "metadata": {
    "collapsed": false,
    "pycharm": {
     "name": "#%%\n"
    }
   }
  },
  {
   "cell_type": "code",
   "execution_count": 162,
   "outputs": [
    {
     "name": "stdout",
     "output_type": "stream",
     "text": [
      "Before: \n",
      "[[ 0.29645637  0.3740677  -0.18154398 -2.5696058 ]\n",
      " [-1.4819667   0.40002587 -0.09616903 -0.23997805]\n",
      " [-0.5261887  -0.69273114  1.289623   -0.04621967]\n",
      " [ 0.00796687 -1.026881    1.7200556   0.5495901 ]]\n",
      "After: \n",
      "[[ 0.59291273  0.7481354  -0.36308795 -5.1392117 ]\n",
      " [-2.9639335   0.80005175 -0.19233806 -0.4799561 ]\n",
      " [-1.0523773  -1.3854623   2.579246   -0.09243934]\n",
      " [ 0.01593374 -2.053762    3.4401112   1.0991802 ]]\n"
     ]
    }
   ],
   "source": [
    "print(\"Before: \")\n",
    "print(a)\n",
    "\n",
    "print(\"After: \")\n",
    "print(a_doubled)"
   ],
   "metadata": {
    "collapsed": false,
    "pycharm": {
     "name": "#%%\n"
    }
   }
  }
 ],
 "metadata": {
  "kernelspec": {
   "display_name": "Python 3",
   "language": "python",
   "name": "python3"
  },
  "language_info": {
   "codemirror_mode": {
    "name": "ipython",
    "version": 2
   },
   "file_extension": ".py",
   "mimetype": "text/x-python",
   "name": "python",
   "nbconvert_exporter": "python",
   "pygments_lexer": "ipython2",
   "version": "2.7.6"
  }
 },
 "nbformat": 4,
 "nbformat_minor": 0
}