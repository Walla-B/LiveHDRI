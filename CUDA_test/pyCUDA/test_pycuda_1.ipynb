{
 "cells": [
  {
   "cell_type": "code",
   "execution_count": 13,
   "metadata": {
    "collapsed": true
   },
   "outputs": [],
   "source": [
    "import pycuda.driver as cuda\n",
    "import pycuda.autoinit\n",
    "from pycuda.compiler import SourceModule\n",
    "\n",
    "import numpy as np"
   ]
  },
  {
   "cell_type": "code",
   "execution_count": 14,
   "outputs": [],
   "source": [
    "# create 4x4 numpy random array\n",
    "a = np.random.randn(4,4)"
   ],
   "metadata": {
    "collapsed": false,
    "pycharm": {
     "name": "#%%\n"
    }
   }
  },
  {
   "cell_type": "code",
   "execution_count": 15,
   "outputs": [
    {
     "name": "stdout",
     "output_type": "stream",
     "text": [
      "[[-1.25807439 -1.49082831  0.42366278  0.23243383]\n",
      " [ 0.79992675  0.14990894  0.08045815  0.75484672]\n",
      " [ 1.17296669  2.09375653  0.91962065 -0.11099851]\n",
      " [ 0.65909774  1.23358011 -1.19015763  1.00887176]]\n"
     ]
    }
   ],
   "source": [
    "print(a)"
   ],
   "metadata": {
    "collapsed": false,
    "pycharm": {
     "name": "#%%\n"
    }
   }
  },
  {
   "cell_type": "code",
   "execution_count": 16,
   "outputs": [
    {
     "data": {
      "text/plain": "numpy.float64"
     },
     "execution_count": 16,
     "metadata": {},
     "output_type": "execute_result"
    }
   ],
   "source": [
    "# elements of a is numpy.float64(double precision)\n",
    "type(a[1,1])"
   ],
   "metadata": {
    "collapsed": false,
    "pycharm": {
     "name": "#%%\n"
    }
   }
  },
  {
   "cell_type": "code",
   "execution_count": 17,
   "outputs": [],
   "source": [
    "# nvidia devices only support single precision, so typecast\n",
    "a = a.astype(np.float32)"
   ],
   "metadata": {
    "collapsed": false,
    "pycharm": {
     "name": "#%%\n"
    }
   }
  },
  {
   "cell_type": "code",
   "execution_count": 18,
   "outputs": [
    {
     "data": {
      "text/plain": "numpy.float32"
     },
     "execution_count": 18,
     "metadata": {},
     "output_type": "execute_result"
    }
   ],
   "source": [
    "#now type is numpy.float32(single precision)\n",
    "type(a[1,1])"
   ],
   "metadata": {
    "collapsed": false,
    "pycharm": {
     "name": "#%%\n"
    }
   }
  },
  {
   "cell_type": "code",
   "execution_count": 19,
   "outputs": [],
   "source": [
    "#allocate memory on the device to transfer data\n",
    "a_gpu = cuda.mem_alloc(a.nbytes)\n",
    "\n",
    "#next, transfer data to GPU\n",
    "#just like CUDA C, htod : host to device\n",
    "cuda.memcpy_htod(a_gpu,a)"
   ],
   "metadata": {
    "collapsed": false,
    "pycharm": {
     "name": "#%%\n"
    }
   }
  },
  {
   "cell_type": "code",
   "execution_count": 20,
   "outputs": [],
   "source": [
    "#Create a kernel\n",
    "mod = SourceModule(\"\"\"\n",
    "    __global__ void doublify(float *a)\n",
    "    {\n",
    "        int idx = threadIdx.x + threadIdx.y*blockDim.x;\n",
    "        a[idx] *= 2;\n",
    "    }\n",
    "\"\"\")"
   ],
   "metadata": {
    "collapsed": false,
    "pycharm": {
     "name": "#%%\n"
    }
   }
  },
  {
   "cell_type": "code",
   "execution_count": 21,
   "outputs": [],
   "source": [
    "#threadsPerBlock\n",
    "threadsPerBlock = (32,32,1)\n",
    "#blocksPerGrid\n",
    "blocksPerGrid = (1,1,1)\n"
   ],
   "metadata": {
    "collapsed": false,
    "pycharm": {
     "name": "#%%\n"
    }
   }
  },
  {
   "cell_type": "code",
   "execution_count": 22,
   "outputs": [],
   "source": [
    "func = mod.get_function(\"doublify\")\n",
    "func(a_gpu, block=threadsPerBlock, grid=blocksPerGrid)"
   ],
   "metadata": {
    "collapsed": false,
    "pycharm": {
     "name": "#%%\n"
    }
   }
  },
  {
   "cell_type": "code",
   "execution_count": 23,
   "outputs": [],
   "source": [
    "a_doubled = np.empty_like(a)\n",
    "#dtoh : device to host\n",
    "cuda.memcpy_dtoh(a_doubled, a_gpu)"
   ],
   "metadata": {
    "collapsed": false,
    "pycharm": {
     "name": "#%%\n"
    }
   }
  },
  {
   "cell_type": "code",
   "execution_count": 24,
   "outputs": [
    {
     "name": "stdout",
     "output_type": "stream",
     "text": [
      "Before: \n",
      "[[-1.2580744  -1.4908283   0.42366278  0.23243383]\n",
      " [ 0.79992676  0.14990894  0.08045815  0.7548467 ]\n",
      " [ 1.1729667   2.0937564   0.91962063 -0.11099851]\n",
      " [ 0.65909773  1.2335801  -1.1901577   1.0088718 ]]\n",
      "After: \n",
      "[[-2.5161488  -2.9816566   0.84732556  0.46486765]\n",
      " [ 1.5998535   0.2998179   0.1609163   1.5096934 ]\n",
      " [ 2.3459334   4.187513    1.8392413  -0.22199702]\n",
      " [ 1.3181955   2.4671602  -2.3803153   2.0177436 ]]\n"
     ]
    }
   ],
   "source": [
    "print(\"Before: \")\n",
    "print(a)\n",
    "\n",
    "print(\"After: \")\n",
    "print(a_doubled)"
   ],
   "metadata": {
    "collapsed": false,
    "pycharm": {
     "name": "#%%\n"
    }
   }
  }
 ],
 "metadata": {
  "kernelspec": {
   "display_name": "Python 3",
   "language": "python",
   "name": "python3"
  },
  "language_info": {
   "codemirror_mode": {
    "name": "ipython",
    "version": 2
   },
   "file_extension": ".py",
   "mimetype": "text/x-python",
   "name": "python",
   "nbconvert_exporter": "python",
   "pygments_lexer": "ipython2",
   "version": "2.7.6"
  }
 },
 "nbformat": 4,
 "nbformat_minor": 0
}