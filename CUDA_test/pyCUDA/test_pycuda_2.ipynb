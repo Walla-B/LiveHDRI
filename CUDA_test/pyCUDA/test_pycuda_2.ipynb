{
 "cells": [
  {
   "cell_type": "code",
   "execution_count": 8,
   "metadata": {
    "collapsed": true
   },
   "outputs": [],
   "source": [
    "import pycuda.driver as cuda\n",
    "import pycuda.autoinit\n",
    "from pycuda.compiler import SourceModule\n",
    "\n",
    "import cv2 as cv\n",
    "import numpy as np"
   ]
  },
  {
   "cell_type": "code",
   "execution_count": 9,
   "outputs": [
    {
     "name": "stdout",
     "output_type": "stream",
     "text": [
      "(551, 980)\n",
      "float32\n"
     ]
    }
   ],
   "source": [
    "img = cv.imread(\"C:/Users/dev/Desktop/LiveHDRI/OpenCV_test/imageset/landscape.jpg\")\n",
    "\n",
    "gray_img = cv.cvtColor(img,cv.COLOR_BGR2GRAY)\n",
    "\n",
    "gray_img = gray_img.astype(np.float32)\n",
    "print(gray_img.shape)\n",
    "print(gray_img.dtype)"
   ],
   "metadata": {
    "collapsed": false,
    "pycharm": {
     "name": "#%%\n"
    }
   }
  },
  {
   "cell_type": "code",
   "execution_count": 10,
   "outputs": [],
   "source": [
    "#testimg = gray_img.astype(np.uint8)\n",
    "#cv.imshow(\"landscape\",testimg)\n",
    "#cv.waitKey(0)"
   ],
   "metadata": {
    "collapsed": false,
    "pycharm": {
     "name": "#%%\n"
    }
   }
  },
  {
   "cell_type": "code",
   "execution_count": 11,
   "outputs": [
    {
     "name": "stdout",
     "output_type": "stream",
     "text": [
      "float32\n",
      "(551, 980)\n"
     ]
    }
   ],
   "source": [
    "noise = np.random.randn(gray_img.shape[0],gray_img.shape[1])\n",
    "noise = noise.astype(np.float32)\n",
    "print(noise[1,1].dtype)\n",
    "print(noise.shape)"
   ],
   "metadata": {
    "collapsed": false,
    "pycharm": {
     "name": "#%%\n"
    }
   }
  },
  {
   "cell_type": "code",
   "execution_count": 12,
   "outputs": [
    {
     "name": "stdout",
     "output_type": "stream",
     "text": [
      "(551, 980)\n"
     ]
    }
   ],
   "source": [
    "result_img = np.zeros((gray_img.shape[0],gray_img.shape[1]),dtype='float32')\n",
    "print(result_img.shape)"
   ],
   "metadata": {
    "collapsed": false,
    "pycharm": {
     "name": "#%%\n"
    }
   }
  },
  {
   "cell_type": "code",
   "execution_count": 13,
   "outputs": [
    {
     "ename": "AttributeError",
     "evalue": "'int' object has no attribute 'nbytes'",
     "output_type": "error",
     "traceback": [
      "\u001B[1;31m---------------------------------------------------------------------------\u001B[0m",
      "\u001B[1;31mAttributeError\u001B[0m                            Traceback (most recent call last)",
      "\u001B[1;32m~\\AppData\\Local\\Temp/ipykernel_3868/1058110799.py\u001B[0m in \u001B[0;36m<module>\u001B[1;34m\u001B[0m\n\u001B[0;32m     11\u001B[0m \u001B[0mheight\u001B[0m \u001B[1;33m=\u001B[0m \u001B[0mgray_img\u001B[0m\u001B[1;33m.\u001B[0m\u001B[0mshape\u001B[0m\u001B[1;33m[\u001B[0m\u001B[1;36m1\u001B[0m\u001B[1;33m]\u001B[0m\u001B[1;33m\u001B[0m\u001B[1;33m\u001B[0m\u001B[0m\n\u001B[0;32m     12\u001B[0m \u001B[1;33m\u001B[0m\u001B[0m\n\u001B[1;32m---> 13\u001B[1;33m \u001B[0mwidth_gpu\u001B[0m \u001B[1;33m=\u001B[0m \u001B[0mcuda\u001B[0m\u001B[1;33m.\u001B[0m\u001B[0mmem_alloc\u001B[0m\u001B[1;33m(\u001B[0m\u001B[0mwidth\u001B[0m\u001B[1;33m.\u001B[0m\u001B[0mnbytes\u001B[0m\u001B[1;33m)\u001B[0m\u001B[1;33m\u001B[0m\u001B[1;33m\u001B[0m\u001B[0m\n\u001B[0m\u001B[0;32m     14\u001B[0m \u001B[0mcuda\u001B[0m\u001B[1;33m.\u001B[0m\u001B[0mmemcpy_htod\u001B[0m\u001B[1;33m(\u001B[0m\u001B[0mwidth_gpu\u001B[0m\u001B[1;33m,\u001B[0m\u001B[0mwidth\u001B[0m\u001B[1;33m)\u001B[0m\u001B[1;33m\u001B[0m\u001B[1;33m\u001B[0m\u001B[0m\n\u001B[0;32m     15\u001B[0m \u001B[1;33m\u001B[0m\u001B[0m\n",
      "\u001B[1;31mAttributeError\u001B[0m: 'int' object has no attribute 'nbytes'"
     ]
    }
   ],
   "source": [
    "img_gpu = cuda.mem_alloc(gray_img.nbytes)\n",
    "cuda.memcpy_htod(img_gpu,gray_img)\n",
    "\n",
    "img_noise_gpu = cuda.mem_alloc(noise.nbytes)\n",
    "cuda.memcpy_htod(img_noise_gpu,noise)\n",
    "\n",
    "img_result_gpu = cuda.mem_alloc(result_img.nbytes)\n",
    "cuda.memcpy_htod(img_result_gpu,result_img)\n",
    "\n",
    "width = gray_img.shape[0]\n",
    "height = gray_img.shape[1]\n",
    "\n",
    "width_gpu = cuda.mem_alloc(width.nbytes)\n",
    "cuda.memcpy_htod(width_gpu,width)\n",
    "\n",
    "height_gpu = cuda.mem_alloc(height.nbytes)\n",
    "cuda.memcpy_htod(height_gpu,height)"
   ],
   "metadata": {
    "collapsed": false,
    "pycharm": {
     "name": "#%%\n"
    }
   }
  },
  {
   "cell_type": "code",
   "execution_count": null,
   "outputs": [],
   "source": [
    "kernel = SourceModule(\"\"\"\n",
    "    __global__ void addnoise(float* input, float* output, float* noise, int width, int height){\n",
    "        //int blockId = (gridDim.x * blockIdx.y) + blockIdx.x;\n",
    "        //int threadId = (blockId * (blockDim.x * blockDim.y)) + (threadIdx.y * blockDim.x) + threadIdx.x;\n",
    "\n",
    "        int xIndex = blockIdx.x * blockDim.x + threadIdx.x;\n",
    "        int yIndex = blockIdx.y * blockDim.y + threadIdx.y;\n",
    "\n",
    "        if ( xIndex < width && yIndex < height) {\n",
    "            output[xIndex][yIndex] = input[xIndex][yIndex]; //+ 10*noise[idx];\n",
    "        }\n",
    "    }\n",
    "\"\"\")"
   ],
   "metadata": {
    "collapsed": false,
    "pycharm": {
     "name": "#%%\n"
    }
   }
  },
  {
   "cell_type": "code",
   "execution_count": null,
   "outputs": [],
   "source": [
    "bdim = (16,16,1)\n",
    "dx, mx = divmod(gray_img.shape[0], bdim[0])\n",
    "dy, my = divmod(gray_img.shape[1], bdim[1])\n",
    "\n",
    "gdim = ((dx + (mx>0)) *bdim[0], (dy + (my>0)) * bdim[1])\n",
    "\n",
    "print(bdim)\n",
    "print(gdim)\n",
    "func = kernel.get_function(\"addnoise\")\n",
    "func(img_gpu,img_result_gpu,img_noise_gpu,width_gpu,height_gpu, block=bdim, grid=gdim)"
   ],
   "metadata": {
    "collapsed": false,
    "pycharm": {
     "name": "#%%\n"
    }
   }
  },
  {
   "cell_type": "code",
   "execution_count": null,
   "outputs": [],
   "source": [
    "cuda.memcpy_dtoh(result_img,img_result_gpu)"
   ],
   "metadata": {
    "collapsed": false,
    "pycharm": {
     "name": "#%%\n"
    }
   }
  },
  {
   "cell_type": "code",
   "execution_count": null,
   "outputs": [],
   "source": [
    "result_img = result_img.astype(np.uint8)\n",
    "print(result_img.shape)\n",
    "print(result_img)\n",
    "cv.imshow(\"gpu_result\",result_img)\n",
    "cv.waitKey(0)"
   ],
   "metadata": {
    "collapsed": false,
    "pycharm": {
     "name": "#%%\n"
    }
   }
  }
 ],
 "metadata": {
  "kernelspec": {
   "display_name": "Python 3",
   "language": "python",
   "name": "python3"
  },
  "language_info": {
   "codemirror_mode": {
    "name": "ipython",
    "version": 2
   },
   "file_extension": ".py",
   "mimetype": "text/x-python",
   "name": "python",
   "nbconvert_exporter": "python",
   "pygments_lexer": "ipython2",
   "version": "2.7.6"
  }
 },
 "nbformat": 4,
 "nbformat_minor": 0
}