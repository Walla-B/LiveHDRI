{
 "cells": [
  {
   "cell_type": "code",
   "execution_count": 40,
   "metadata": {
    "collapsed": true
   },
   "outputs": [],
   "source": [
    "import pycuda.driver as cuda\n",
    "import pycuda.autoinit\n",
    "from pycuda.compiler import SourceModule\n",
    "\n",
    "import cv2 as cv\n",
    "import numpy as np"
   ]
  },
  {
   "cell_type": "code",
   "execution_count": 41,
   "outputs": [
    {
     "name": "stdout",
     "output_type": "stream",
     "text": [
      "(551, 980)\n",
      "float32\n"
     ]
    }
   ],
   "source": [
    "img = cv.imread(\"C:/Users/dev/Desktop/LiveHDRI/OpenCV_test/imageset/landscape.jpg\")\n",
    "\n",
    "gray_img = cv.cvtColor(img,cv.COLOR_BGR2GRAY)\n",
    "\n",
    "gray_img = gray_img.astype(np.float32)\n",
    "print(gray_img.shape)\n",
    "print(gray_img.dtype)"
   ],
   "metadata": {
    "collapsed": false,
    "pycharm": {
     "name": "#%%\n"
    }
   }
  },
  {
   "cell_type": "code",
   "execution_count": 42,
   "outputs": [],
   "source": [
    "#testimg = gray_img.astype(np.uint8)\n",
    "#cv.imshow(\"landscape\",testimg)\n",
    "#cv.waitKey(0)"
   ],
   "metadata": {
    "collapsed": false,
    "pycharm": {
     "name": "#%%\n"
    }
   }
  },
  {
   "cell_type": "code",
   "execution_count": 43,
   "outputs": [
    {
     "name": "stdout",
     "output_type": "stream",
     "text": [
      "float32\n",
      "(551, 980)\n"
     ]
    }
   ],
   "source": [
    "noise = np.random.randn(gray_img.shape[0],gray_img.shape[1])\n",
    "noise = noise.astype(np.float32)\n",
    "print(noise[1,1].dtype)\n",
    "print(noise.shape)"
   ],
   "metadata": {
    "collapsed": false,
    "pycharm": {
     "name": "#%%\n"
    }
   }
  },
  {
   "cell_type": "code",
   "execution_count": 44,
   "outputs": [
    {
     "name": "stdout",
     "output_type": "stream",
     "text": [
      "(551, 980)\n"
     ]
    }
   ],
   "source": [
    "result_img = np.zeros((gray_img.shape[0],gray_img.shape[1]),dtype='float32')\n",
    "print(result_img.shape)"
   ],
   "metadata": {
    "collapsed": false,
    "pycharm": {
     "name": "#%%\n"
    }
   }
  },
  {
   "cell_type": "code",
   "execution_count": 45,
   "outputs": [
    {
     "name": "stdout",
     "output_type": "stream",
     "text": [
      "2159920\n"
     ]
    }
   ],
   "source": [
    "print(gray_img.nbytes)"
   ],
   "metadata": {
    "collapsed": false,
    "pycharm": {
     "name": "#%%\n"
    }
   }
  },
  {
   "cell_type": "code",
   "execution_count": 46,
   "outputs": [
    {
     "ename": "LogicError",
     "evalue": "cuMemAlloc failed: an illegal memory access was encountered",
     "output_type": "error",
     "traceback": [
      "\u001B[1;31m---------------------------------------------------------------------------\u001B[0m",
      "\u001B[1;31mLogicError\u001B[0m                                Traceback (most recent call last)",
      "\u001B[1;32m~\\AppData\\Local\\Temp/ipykernel_7676/1755066126.py\u001B[0m in \u001B[0;36m<module>\u001B[1;34m\u001B[0m\n\u001B[1;32m----> 1\u001B[1;33m \u001B[0mimg_gpu\u001B[0m \u001B[1;33m=\u001B[0m \u001B[0mcuda\u001B[0m\u001B[1;33m.\u001B[0m\u001B[0mmem_alloc\u001B[0m\u001B[1;33m(\u001B[0m\u001B[0mgray_img\u001B[0m\u001B[1;33m.\u001B[0m\u001B[0mnbytes\u001B[0m\u001B[1;33m)\u001B[0m\u001B[1;33m\u001B[0m\u001B[1;33m\u001B[0m\u001B[0m\n\u001B[0m\u001B[0;32m      2\u001B[0m \u001B[0mcuda\u001B[0m\u001B[1;33m.\u001B[0m\u001B[0mmemcpy_htod\u001B[0m\u001B[1;33m(\u001B[0m\u001B[0mimg_gpu\u001B[0m\u001B[1;33m,\u001B[0m\u001B[0mgray_img\u001B[0m\u001B[1;33m)\u001B[0m\u001B[1;33m\u001B[0m\u001B[1;33m\u001B[0m\u001B[0m\n\u001B[0;32m      3\u001B[0m \u001B[1;33m\u001B[0m\u001B[0m\n\u001B[0;32m      4\u001B[0m \u001B[0mimg_noise_gpu\u001B[0m \u001B[1;33m=\u001B[0m \u001B[0mcuda\u001B[0m\u001B[1;33m.\u001B[0m\u001B[0mmem_alloc\u001B[0m\u001B[1;33m(\u001B[0m\u001B[0mnoise\u001B[0m\u001B[1;33m.\u001B[0m\u001B[0mnbytes\u001B[0m\u001B[1;33m)\u001B[0m\u001B[1;33m\u001B[0m\u001B[1;33m\u001B[0m\u001B[0m\n\u001B[0;32m      5\u001B[0m \u001B[0mcuda\u001B[0m\u001B[1;33m.\u001B[0m\u001B[0mmemcpy_htod\u001B[0m\u001B[1;33m(\u001B[0m\u001B[0mimg_noise_gpu\u001B[0m\u001B[1;33m,\u001B[0m\u001B[0mnoise\u001B[0m\u001B[1;33m)\u001B[0m\u001B[1;33m\u001B[0m\u001B[1;33m\u001B[0m\u001B[0m\n",
      "\u001B[1;31mLogicError\u001B[0m: cuMemAlloc failed: an illegal memory access was encountered"
     ]
    }
   ],
   "source": [
    "img_gpu = cuda.mem_alloc(gray_img.nbytes)\n",
    "cuda.memcpy_htod(img_gpu,gray_img)\n",
    "\n",
    "img_noise_gpu = cuda.mem_alloc(noise.nbytes)\n",
    "cuda.memcpy_htod(img_noise_gpu,noise)\n",
    "\n",
    "img_result_gpu = cuda.mem_alloc(result_img.nbytes)\n",
    "cuda.memcpy_htod(img_result_gpu,result_img)\n"
   ],
   "metadata": {
    "collapsed": false,
    "pycharm": {
     "name": "#%%\n"
    }
   }
  },
  {
   "cell_type": "code",
   "execution_count": null,
   "outputs": [],
   "source": [
    "kernel = SourceModule(\"\"\"\n",
    "    __global__ void addnoise(float* input, float* output, float* noise){\n",
    "        //int blockId = (gridDim.x * blockIdx.y) + blockIdx.x;\n",
    "        //int threadId = (blockId * (blockDim.x * blockDim.y)) + (threadIdx.y * blockDim.x) + threadIdx.x;\n",
    "\n",
    "        int block_id =\n",
    "            blockIdx.x +\n",
    "            blockIdx.y * gridDim.x;\n",
    "\n",
    "        int block_offset =\n",
    "            block_id *\n",
    "            blockDim.x * blockDim.y * blockDim.z;\n",
    "\n",
    "        int thread_offset =\n",
    "            threadIdx.x +\n",
    "            threadIdx.y * blockDim.x;\n",
    "\n",
    "        int id = block_offset + thread_offset;\n",
    "\n",
    "        //int xIndex = blockIdx.x * blockDim.x + threadIdx.x;\n",
    "        //int yIndex = blockIdx.y * blockDim.y + threadIdx.y;\n",
    "        //if ( xIndex < width && yIndex < height) {\n",
    "        //    output[xIndex][yIndex] = input[xIndex][yIndex]; //+ 10*noise[idx];\n",
    "        //}\n",
    "\n",
    "        output[id] = input[id] + 10*noise[id];\n",
    "    }\n",
    "\"\"\")"
   ],
   "metadata": {
    "collapsed": false,
    "pycharm": {
     "name": "#%%\n"
    }
   }
  },
  {
   "cell_type": "code",
   "execution_count": null,
   "outputs": [],
   "source": [
    "bdim = (32,32)\n",
    "dx, mx = divmod(gray_img.shape[0], bdim[0])\n",
    "dy, my = divmod(gray_img.shape[1], bdim[1])\n",
    "\n",
    "gdim = ((dx + (mx>0)) *bdim[0], (dy + (my>0)) * bdim[1])\n",
    "\n",
    "print(bdim)\n",
    "print(gdim)\n",
    "func = kernel.get_function(\"addnoise\")\n",
    "func(img_gpu,img_result_gpu,img_noise_gpu, block=bdim, grid=gdim)"
   ],
   "metadata": {
    "collapsed": false,
    "pycharm": {
     "name": "#%%\n"
    }
   }
  },
  {
   "cell_type": "code",
   "execution_count": null,
   "outputs": [],
   "source": [
    "cuda.memcpy_dtoh(result_img,img_result_gpu)"
   ],
   "metadata": {
    "collapsed": false,
    "pycharm": {
     "name": "#%%\n"
    }
   }
  },
  {
   "cell_type": "code",
   "execution_count": null,
   "outputs": [],
   "source": [
    "result_img = result_img.astype(np.uint8)\n",
    "print(result_img.shape)\n",
    "print(result_img)\n",
    "cv.imshow(\"gpu_result\",result_img)\n",
    "cv.waitKey(0)"
   ],
   "metadata": {
    "collapsed": false,
    "pycharm": {
     "name": "#%%\n"
    }
   }
  }
 ],
 "metadata": {
  "kernelspec": {
   "display_name": "Python 3",
   "language": "python",
   "name": "python3"
  },
  "language_info": {
   "codemirror_mode": {
    "name": "ipython",
    "version": 2
   },
   "file_extension": ".py",
   "mimetype": "text/x-python",
   "name": "python",
   "nbconvert_exporter": "python",
   "pygments_lexer": "ipython2",
   "version": "2.7.6"
  }
 },
 "nbformat": 4,
 "nbformat_minor": 0
}