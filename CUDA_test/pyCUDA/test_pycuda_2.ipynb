{
 "cells": [
  {
   "cell_type": "code",
   "execution_count": null,
   "outputs": [],
   "source": [
    "#pyCUDA 및 openCV를 이용한 이미지에 노이즈를 추가하는 코드"
   ],
   "metadata": {
    "collapsed": false,
    "pycharm": {
     "name": "#%%\n"
    }
   }
  },
  {
   "cell_type": "code",
   "execution_count": 1,
   "metadata": {
    "collapsed": true
   },
   "outputs": [],
   "source": [
    "import pycuda.driver as cuda\n",
    "import pycuda.autoinit\n",
    "from pycuda.compiler import SourceModule\n",
    "\n",
    "import cv2 as cv\n",
    "import numpy as np\n",
    "\n",
    "import time\n",
    "\n",
    "from numba import jit"
   ]
  },
  {
   "cell_type": "code",
   "execution_count": 2,
   "outputs": [
    {
     "name": "stdout",
     "output_type": "stream",
     "text": [
      "(551, 980)\n",
      "float32\n"
     ]
    }
   ],
   "source": [
    "img = cv.imread(\"C:/Users/dev/Desktop/LiveHDRI/OpenCV_test/imageset/landscape.jpg\")\n",
    "\n",
    "gray_img = cv.cvtColor(img,cv.COLOR_BGR2GRAY)\n",
    "\n",
    "gray_img = gray_img.astype(np.float32)\n",
    "print(gray_img.shape)\n",
    "print(gray_img.dtype)"
   ],
   "metadata": {
    "collapsed": false,
    "pycharm": {
     "name": "#%%\n"
    }
   }
  },
  {
   "cell_type": "code",
   "execution_count": 3,
   "outputs": [],
   "source": [
    "#testimg = gray_img.astype(np.uint8)\n",
    "#cv.imshow(\"landscape\",testimg)\n",
    "#cv.waitKey(0)"
   ],
   "metadata": {
    "collapsed": false,
    "pycharm": {
     "name": "#%%\n"
    }
   }
  },
  {
   "cell_type": "code",
   "execution_count": 4,
   "outputs": [
    {
     "name": "stdout",
     "output_type": "stream",
     "text": [
      "float32\n",
      "(551, 980)\n"
     ]
    }
   ],
   "source": [
    "noise = np.random.randn(gray_img.shape[0],gray_img.shape[1])\n",
    "noise = noise.astype(np.float32)\n",
    "print(noise[1,1].dtype)\n",
    "print(noise.shape)"
   ],
   "metadata": {
    "collapsed": false,
    "pycharm": {
     "name": "#%%\n"
    }
   }
  },
  {
   "cell_type": "code",
   "execution_count": 5,
   "outputs": [
    {
     "name": "stdout",
     "output_type": "stream",
     "text": [
      "(551, 980)\n"
     ]
    }
   ],
   "source": [
    "result_img = np.zeros((gray_img.shape[0],gray_img.shape[1]),dtype='float32')\n",
    "result2_img = np.zeros((gray_img.shape[0],gray_img.shape[1]),dtype='float32')\n",
    "print(result_img.shape)"
   ],
   "metadata": {
    "collapsed": false,
    "pycharm": {
     "name": "#%%\n"
    }
   }
  },
  {
   "cell_type": "code",
   "execution_count": 6,
   "outputs": [
    {
     "name": "stdout",
     "output_type": "stream",
     "text": [
      "2159920\n"
     ]
    }
   ],
   "source": [
    "print(gray_img.nbytes)"
   ],
   "metadata": {
    "collapsed": false,
    "pycharm": {
     "name": "#%%\n"
    }
   }
  },
  {
   "cell_type": "code",
   "execution_count": 7,
   "outputs": [],
   "source": [
    "start_time = time.time()\n",
    "\n",
    "img_gpu = cuda.mem_alloc(gray_img.nbytes)\n",
    "cuda.memcpy_htod(img_gpu,gray_img)\n",
    "\n",
    "img_noise_gpu = cuda.mem_alloc(noise.nbytes)\n",
    "cuda.memcpy_htod(img_noise_gpu,noise)\n",
    "\n",
    "img_result_gpu = cuda.mem_alloc(result_img.nbytes)\n",
    "cuda.memcpy_htod(img_result_gpu,result_img)\n"
   ],
   "metadata": {
    "collapsed": false,
    "pycharm": {
     "name": "#%%\n"
    }
   }
  },
  {
   "cell_type": "code",
   "execution_count": 8,
   "outputs": [],
   "source": [
    "kernel = SourceModule(\"\"\"\n",
    "    __global__ void addnoise(float* input, float* output, float* noise){\n",
    "\n",
    "        int block_id =\n",
    "            blockIdx.x +\n",
    "            blockIdx.y * gridDim.x;\n",
    "\n",
    "        int block_offset =\n",
    "            block_id *\n",
    "            blockDim.x * blockDim.y * blockDim.z;\n",
    "\n",
    "        int thread_offset =\n",
    "            threadIdx.x +\n",
    "            threadIdx.y * blockDim.x;\n",
    "\n",
    "        int id = block_offset + thread_offset;\n",
    "\n",
    "        int limit_id = 539980;\n",
    "        int blocksize = 1024;\n",
    "        //output[id] = input[id] + 10*noise[id];\n",
    "\n",
    "        if ( id < 539980) {\n",
    "            output[id] = input[id] + 10*noise[id];\n",
    "        }\n",
    "    }\n",
    "\"\"\")"
   ],
   "metadata": {
    "collapsed": false,
    "pycharm": {
     "name": "#%%\n"
    }
   }
  },
  {
   "cell_type": "code",
   "execution_count": 9,
   "outputs": [
    {
     "name": "stdout",
     "output_type": "stream",
     "text": [
      "(18, 31)\n"
     ]
    }
   ],
   "source": [
    "threadsPerBlock = (32,32,1)\n",
    "dx, mx = divmod(gray_img.shape[0], threadsPerBlock[0])\n",
    "dy, my = divmod(gray_img.shape[1], threadsPerBlock[1])\n",
    "\n",
    "blocksPerGrid = ((dx + (mx>0)), (dy + (my>0)))\n",
    "#blocksPerGrid = (200, 350)\n",
    "print(blocksPerGrid)\n",
    "\n",
    "blocksPerGrid=(528,1)\n",
    "func = kernel.get_function(\"addnoise\")\n",
    "\n",
    "func(img_gpu,img_result_gpu,img_noise_gpu, block=threadsPerBlock, grid=blocksPerGrid)"
   ],
   "metadata": {
    "collapsed": false,
    "pycharm": {
     "name": "#%%\n"
    }
   }
  },
  {
   "cell_type": "code",
   "execution_count": 10,
   "outputs": [
    {
     "name": "stdout",
     "output_type": "stream",
     "text": [
      "0.06000161170959473 seconds in GPU\n"
     ]
    }
   ],
   "source": [
    "cuda.memcpy_dtoh(result_img,img_result_gpu)\n",
    "print(\"%s seconds in GPU\" %(time.time()-start_time))"
   ],
   "metadata": {
    "collapsed": false,
    "pycharm": {
     "name": "#%%\n"
    }
   }
  },
  {
   "cell_type": "code",
   "execution_count": 11,
   "outputs": [
    {
     "name": "stdout",
     "output_type": "stream",
     "text": [
      "0.2740006446838379 seconds in CPU\n"
     ]
    }
   ],
   "source": [
    "start_time2 = time.time()\n",
    "for i in range(551):\n",
    "    for j in range(980):\n",
    "        result2_img[i,j] = gray_img[i,j] + noise[i,j]\n",
    "\n",
    "print(\"%s seconds in CPU\" %(time.time()-start_time2))"
   ],
   "metadata": {
    "collapsed": false,
    "pycharm": {
     "name": "#%%\n"
    }
   }
  },
  {
   "cell_type": "code",
   "execution_count": 12,
   "outputs": [
    {
     "ename": "TypingError",
     "evalue": "Failed in nopython mode pipeline (step: nopython frontend)\n\u001B[1m\u001B[1mNo implementation of function Function(<built-in function setitem>) found for signature:\n \n >>> setitem(readonly array(float32, 2d, C), UniTuple(int64 x 2), float32)\n \nThere are 16 candidate implementations:\n\u001B[1m  - Of which 14 did not match due to:\n  Overload of function 'setitem': File: <numerous>: Line N/A.\n    With argument(s): '(readonly array(float32, 2d, C), UniTuple(int64 x 2), float32)':\u001B[0m\n\u001B[1m   No match.\u001B[0m\n\u001B[1m  - Of which 2 did not match due to:\n  Overload in function 'SetItemBuffer.generic': File: numba\\core\\typing\\arraydecl.py: Line 171.\n    With argument(s): '(readonly array(float32, 2d, C), UniTuple(int64 x 2), float32)':\u001B[0m\n\u001B[1m   Rejected as the implementation raised a specific error:\n     TypeError: Cannot modify value of type readonly array(float32, 2d, C)\u001B[0m\n  raised from C:\\Users\\dev\\AppData\\Roaming\\Python\\Python37\\site-packages\\numba\\core\\typing\\arraydecl.py:177\n\u001B[0m\n\u001B[0m\u001B[1mDuring: typing of setitem at C:\\Users\\dev\\AppData\\Local\\Temp/ipykernel_3648/874005637.py (6)\u001B[0m\n\u001B[1m\nFile \"..\\..\\..\\..\\AppData\\Local\\Temp\\ipykernel_3648\\874005637.py\", line 6:\u001B[0m\n\u001B[1m<source missing, REPL/exec in use?>\u001B[0m\n",
     "output_type": "error",
     "traceback": [
      "\u001B[1;31m---------------------------------------------------------------------------\u001B[0m",
      "\u001B[1;31mTypingError\u001B[0m                               Traceback (most recent call last)",
      "\u001B[1;32m~\\AppData\\Local\\Temp/ipykernel_3648/874005637.py\u001B[0m in \u001B[0;36m<module>\u001B[1;34m\u001B[0m\n\u001B[0;32m      5\u001B[0m         \u001B[1;32mfor\u001B[0m \u001B[0mj\u001B[0m \u001B[1;32min\u001B[0m \u001B[0mrange\u001B[0m\u001B[1;33m(\u001B[0m\u001B[1;36m980\u001B[0m\u001B[1;33m)\u001B[0m\u001B[1;33m:\u001B[0m\u001B[1;33m\u001B[0m\u001B[1;33m\u001B[0m\u001B[0m\n\u001B[0;32m      6\u001B[0m             \u001B[0mresult2_img\u001B[0m\u001B[1;33m[\u001B[0m\u001B[0mi\u001B[0m\u001B[1;33m,\u001B[0m\u001B[0mj\u001B[0m\u001B[1;33m]\u001B[0m \u001B[1;33m=\u001B[0m \u001B[0mgray_img\u001B[0m\u001B[1;33m[\u001B[0m\u001B[0mi\u001B[0m\u001B[1;33m,\u001B[0m\u001B[0mj\u001B[0m\u001B[1;33m]\u001B[0m \u001B[1;33m+\u001B[0m \u001B[0mnoise\u001B[0m\u001B[1;33m[\u001B[0m\u001B[0mi\u001B[0m\u001B[1;33m,\u001B[0m\u001B[0mj\u001B[0m\u001B[1;33m]\u001B[0m\u001B[1;33m\u001B[0m\u001B[1;33m\u001B[0m\u001B[0m\n\u001B[1;32m----> 7\u001B[1;33m \u001B[0mimgloop\u001B[0m\u001B[1;33m(\u001B[0m\u001B[1;33m)\u001B[0m\u001B[1;33m\u001B[0m\u001B[1;33m\u001B[0m\u001B[0m\n\u001B[0m\u001B[0;32m      8\u001B[0m \u001B[0mprint\u001B[0m\u001B[1;33m(\u001B[0m\u001B[1;34m\"%s seconds in CPU with numba\"\u001B[0m \u001B[1;33m%\u001B[0m\u001B[1;33m(\u001B[0m\u001B[0mtime\u001B[0m\u001B[1;33m.\u001B[0m\u001B[0mtime\u001B[0m\u001B[1;33m(\u001B[0m\u001B[1;33m)\u001B[0m\u001B[1;33m-\u001B[0m\u001B[0mstart_time3\u001B[0m\u001B[1;33m)\u001B[0m\u001B[1;33m)\u001B[0m\u001B[1;33m\u001B[0m\u001B[1;33m\u001B[0m\u001B[0m\n\u001B[0;32m      9\u001B[0m \u001B[1;33m\u001B[0m\u001B[0m\n",
      "\u001B[1;32m~\\AppData\\Roaming\\Python\\Python37\\site-packages\\numba\\core\\dispatcher.py\u001B[0m in \u001B[0;36m_compile_for_args\u001B[1;34m(self, *args, **kws)\u001B[0m\n\u001B[0;32m    480\u001B[0m                 \u001B[0me\u001B[0m\u001B[1;33m.\u001B[0m\u001B[0mpatch_message\u001B[0m\u001B[1;33m(\u001B[0m\u001B[0mmsg\u001B[0m\u001B[1;33m)\u001B[0m\u001B[1;33m\u001B[0m\u001B[1;33m\u001B[0m\u001B[0m\n\u001B[0;32m    481\u001B[0m \u001B[1;33m\u001B[0m\u001B[0m\n\u001B[1;32m--> 482\u001B[1;33m             \u001B[0merror_rewrite\u001B[0m\u001B[1;33m(\u001B[0m\u001B[0me\u001B[0m\u001B[1;33m,\u001B[0m \u001B[1;34m'typing'\u001B[0m\u001B[1;33m)\u001B[0m\u001B[1;33m\u001B[0m\u001B[1;33m\u001B[0m\u001B[0m\n\u001B[0m\u001B[0;32m    483\u001B[0m         \u001B[1;32mexcept\u001B[0m \u001B[0merrors\u001B[0m\u001B[1;33m.\u001B[0m\u001B[0mUnsupportedError\u001B[0m \u001B[1;32mas\u001B[0m \u001B[0me\u001B[0m\u001B[1;33m:\u001B[0m\u001B[1;33m\u001B[0m\u001B[1;33m\u001B[0m\u001B[0m\n\u001B[0;32m    484\u001B[0m             \u001B[1;31m# Something unsupported is present in the user code, add help info\u001B[0m\u001B[1;33m\u001B[0m\u001B[1;33m\u001B[0m\u001B[1;33m\u001B[0m\u001B[0m\n",
      "\u001B[1;32m~\\AppData\\Roaming\\Python\\Python37\\site-packages\\numba\\core\\dispatcher.py\u001B[0m in \u001B[0;36merror_rewrite\u001B[1;34m(e, issue_type)\u001B[0m\n\u001B[0;32m    421\u001B[0m                 \u001B[1;32mraise\u001B[0m \u001B[0me\u001B[0m\u001B[1;33m\u001B[0m\u001B[1;33m\u001B[0m\u001B[0m\n\u001B[0;32m    422\u001B[0m             \u001B[1;32melse\u001B[0m\u001B[1;33m:\u001B[0m\u001B[1;33m\u001B[0m\u001B[1;33m\u001B[0m\u001B[0m\n\u001B[1;32m--> 423\u001B[1;33m                 \u001B[1;32mraise\u001B[0m \u001B[0me\u001B[0m\u001B[1;33m.\u001B[0m\u001B[0mwith_traceback\u001B[0m\u001B[1;33m(\u001B[0m\u001B[1;32mNone\u001B[0m\u001B[1;33m)\u001B[0m\u001B[1;33m\u001B[0m\u001B[1;33m\u001B[0m\u001B[0m\n\u001B[0m\u001B[0;32m    424\u001B[0m \u001B[1;33m\u001B[0m\u001B[0m\n\u001B[0;32m    425\u001B[0m         \u001B[0margtypes\u001B[0m \u001B[1;33m=\u001B[0m \u001B[1;33m[\u001B[0m\u001B[1;33m]\u001B[0m\u001B[1;33m\u001B[0m\u001B[1;33m\u001B[0m\u001B[0m\n",
      "\u001B[1;31mTypingError\u001B[0m: Failed in nopython mode pipeline (step: nopython frontend)\n\u001B[1m\u001B[1mNo implementation of function Function(<built-in function setitem>) found for signature:\n \n >>> setitem(readonly array(float32, 2d, C), UniTuple(int64 x 2), float32)\n \nThere are 16 candidate implementations:\n\u001B[1m  - Of which 14 did not match due to:\n  Overload of function 'setitem': File: <numerous>: Line N/A.\n    With argument(s): '(readonly array(float32, 2d, C), UniTuple(int64 x 2), float32)':\u001B[0m\n\u001B[1m   No match.\u001B[0m\n\u001B[1m  - Of which 2 did not match due to:\n  Overload in function 'SetItemBuffer.generic': File: numba\\core\\typing\\arraydecl.py: Line 171.\n    With argument(s): '(readonly array(float32, 2d, C), UniTuple(int64 x 2), float32)':\u001B[0m\n\u001B[1m   Rejected as the implementation raised a specific error:\n     TypeError: Cannot modify value of type readonly array(float32, 2d, C)\u001B[0m\n  raised from C:\\Users\\dev\\AppData\\Roaming\\Python\\Python37\\site-packages\\numba\\core\\typing\\arraydecl.py:177\n\u001B[0m\n\u001B[0m\u001B[1mDuring: typing of setitem at C:\\Users\\dev\\AppData\\Local\\Temp/ipykernel_3648/874005637.py (6)\u001B[0m\n\u001B[1m\nFile \"..\\..\\..\\..\\AppData\\Local\\Temp\\ipykernel_3648\\874005637.py\", line 6:\u001B[0m\n\u001B[1m<source missing, REPL/exec in use?>\u001B[0m\n"
     ]
    }
   ],
   "source": [
    "start_time3 = time.time()\n",
    "@jit(nopython=True)\n",
    "def imgloop():\n",
    "    for i in range(551):\n",
    "        for j in range(980):\n",
    "            result2_img[i,j] = gray_img[i,j] + noise[i,j]\n",
    "imgloop()\n",
    "print(\"%s seconds in CPU with numba\" %(time.time()-start_time3))\n",
    "\n",
    "\n",
    "print(result_img[550,979])\n",
    "result_img = result_img.astype(np.uint8)\n",
    "print(result_img.shape)\n",
    "print(result_img)\n",
    "cv.imshow(\"gpu_result\",result_img)\n",
    "cv.waitKey(0)"
   ],
   "metadata": {
    "collapsed": false,
    "pycharm": {
     "name": "#%%\n"
    }
   }
  }
 ],
 "metadata": {
  "kernelspec": {
   "display_name": "Python 3",
   "language": "python",
   "name": "python3"
  },
  "language_info": {
   "codemirror_mode": {
    "name": "ipython",
    "version": 2
   },
   "file_extension": ".py",
   "mimetype": "text/x-python",
   "name": "python",
   "nbconvert_exporter": "python",
   "pygments_lexer": "ipython2",
   "version": "2.7.6"
  }
 },
 "nbformat": 4,
 "nbformat_minor": 0
}