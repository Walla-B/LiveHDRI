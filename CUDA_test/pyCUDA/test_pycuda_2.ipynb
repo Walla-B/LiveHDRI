{
 "cells": [
  {
   "cell_type": "code",
   "execution_count": 1,
   "outputs": [],
   "source": [
    "#pyCUDA 및 openCV를 이용한 이미지에 노이즈를 추가하는 코드"
   ],
   "metadata": {
    "collapsed": false,
    "pycharm": {
     "name": "#%%\n"
    }
   }
  },
  {
   "cell_type": "code",
   "execution_count": 2,
   "metadata": {
    "collapsed": true
   },
   "outputs": [],
   "source": [
    "import pycuda.driver as cuda\n",
    "import pycuda.autoinit\n",
    "from pycuda.compiler import SourceModule\n",
    "\n",
    "import cv2 as cv\n",
    "import numpy as np\n",
    "\n",
    "import time\n",
    "\n",
    "from numba import jit"
   ]
  },
  {
   "cell_type": "code",
   "execution_count": 3,
   "outputs": [
    {
     "name": "stdout",
     "output_type": "stream",
     "text": [
      "(551, 980)\n",
      "float32\n"
     ]
    }
   ],
   "source": [
    "img = cv.imread(\"C:/Users/dev/Desktop/LiveHDRI/OpenCV_test/imageset/landscape.jpg\")\n",
    "\n",
    "gray_img = cv.cvtColor(img,cv.COLOR_BGR2GRAY)\n",
    "\n",
    "gray_img = gray_img.astype(np.float32)\n",
    "print(gray_img.shape)\n",
    "print(gray_img.dtype)"
   ],
   "metadata": {
    "collapsed": false,
    "pycharm": {
     "name": "#%%\n"
    }
   }
  },
  {
   "cell_type": "code",
   "execution_count": 4,
   "outputs": [],
   "source": [
    "#testimg = gray_img.astype(np.uint8)\n",
    "#cv.imshow(\"landscape\",testimg)\n",
    "#cv.waitKey(0)"
   ],
   "metadata": {
    "collapsed": false,
    "pycharm": {
     "name": "#%%\n"
    }
   }
  },
  {
   "cell_type": "code",
   "execution_count": 5,
   "outputs": [
    {
     "name": "stdout",
     "output_type": "stream",
     "text": [
      "float32\n",
      "(551, 980)\n"
     ]
    }
   ],
   "source": [
    "noise = np.random.randn(gray_img.shape[0],gray_img.shape[1])\n",
    "noise = noise.astype(np.float32)\n",
    "print(noise[1,1].dtype)\n",
    "print(noise.shape)"
   ],
   "metadata": {
    "collapsed": false,
    "pycharm": {
     "name": "#%%\n"
    }
   }
  },
  {
   "cell_type": "code",
   "execution_count": 6,
   "outputs": [
    {
     "name": "stdout",
     "output_type": "stream",
     "text": [
      "(551, 980)\n"
     ]
    }
   ],
   "source": [
    "result_img = np.zeros((gray_img.shape[0],gray_img.shape[1]),dtype='float32')\n",
    "result2_img = np.zeros((gray_img.shape[0],gray_img.shape[1]),dtype='float32')\n",
    "print(result_img.shape)"
   ],
   "metadata": {
    "collapsed": false,
    "pycharm": {
     "name": "#%%\n"
    }
   }
  },
  {
   "cell_type": "code",
   "execution_count": 7,
   "outputs": [
    {
     "name": "stdout",
     "output_type": "stream",
     "text": [
      "2159920\n"
     ]
    }
   ],
   "source": [
    "print(gray_img.nbytes)"
   ],
   "metadata": {
    "collapsed": false,
    "pycharm": {
     "name": "#%%\n"
    }
   }
  },
  {
   "cell_type": "code",
   "execution_count": 8,
   "outputs": [],
   "source": [
    "start_time = time.time()\n",
    "\n",
    "img_gpu = cuda.mem_alloc(gray_img.nbytes)\n",
    "cuda.memcpy_htod(img_gpu,gray_img)\n",
    "\n",
    "img_noise_gpu = cuda.mem_alloc(noise.nbytes)\n",
    "cuda.memcpy_htod(img_noise_gpu,noise)\n",
    "\n",
    "img_result_gpu = cuda.mem_alloc(result_img.nbytes)\n",
    "cuda.memcpy_htod(img_result_gpu,result_img)\n"
   ],
   "metadata": {
    "collapsed": false,
    "pycharm": {
     "name": "#%%\n"
    }
   }
  },
  {
   "cell_type": "code",
   "execution_count": 9,
   "outputs": [],
   "source": [
    "kernel = SourceModule(\"\"\"\n",
    "    __global__ void addnoise(float* input, float* output, float* noise){\n",
    "\n",
    "        int block_id =\n",
    "            blockIdx.x +\n",
    "            blockIdx.y * gridDim.x;\n",
    "\n",
    "        int block_offset =\n",
    "            block_id *\n",
    "            blockDim.x * blockDim.y * blockDim.z;\n",
    "\n",
    "        int thread_offset =\n",
    "            threadIdx.x +\n",
    "            threadIdx.y * blockDim.x;\n",
    "\n",
    "        int id = block_offset + thread_offset;\n",
    "\n",
    "        int limit_id = 539980;\n",
    "        int blocksize = 1024;\n",
    "        //output[id] = input[id] + 10*noise[id];\n",
    "\n",
    "        if ( id < 539980) {\n",
    "            output[id] = input[id] + 10*noise[id];\n",
    "        }\n",
    "    }\n",
    "\"\"\")"
   ],
   "metadata": {
    "collapsed": false,
    "pycharm": {
     "name": "#%%\n"
    }
   }
  },
  {
   "cell_type": "code",
   "execution_count": 10,
   "outputs": [
    {
     "name": "stdout",
     "output_type": "stream",
     "text": [
      "(18, 31)\n"
     ]
    }
   ],
   "source": [
    "threadsPerBlock = (32,32,1)\n",
    "dx, mx = divmod(gray_img.shape[0], threadsPerBlock[0])\n",
    "dy, my = divmod(gray_img.shape[1], threadsPerBlock[1])\n",
    "\n",
    "blocksPerGrid = ((dx + (mx>0)), (dy + (my>0)))\n",
    "#blocksPerGrid = (200, 350)\n",
    "print(blocksPerGrid)\n",
    "\n",
    "blocksPerGrid=(528,1)\n",
    "func = kernel.get_function(\"addnoise\")\n",
    "\n",
    "func(img_gpu,img_result_gpu,img_noise_gpu, block=threadsPerBlock, grid=blocksPerGrid)"
   ],
   "metadata": {
    "collapsed": false,
    "pycharm": {
     "name": "#%%\n"
    }
   }
  },
  {
   "cell_type": "code",
   "execution_count": 11,
   "outputs": [
    {
     "name": "stdout",
     "output_type": "stream",
     "text": [
      "0.06250452995300293 seconds in GPU\n"
     ]
    }
   ],
   "source": [
    "cuda.memcpy_dtoh(result_img,img_result_gpu)\n",
    "print(\"%s seconds in GPU\" %(time.time()-start_time))"
   ],
   "metadata": {
    "collapsed": false,
    "pycharm": {
     "name": "#%%\n"
    }
   }
  },
  {
   "cell_type": "code",
   "execution_count": 12,
   "outputs": [
    {
     "name": "stdout",
     "output_type": "stream",
     "text": [
      "0.325775146484375 seconds in CPU\n"
     ]
    }
   ],
   "source": [
    "start_time2 = time.time()\n",
    "for i in range(551):\n",
    "    for j in range(980):\n",
    "        result2_img[i,j] = gray_img[i,j] + noise[i,j]\n",
    "\n",
    "print(\"%s seconds in CPU\" %(time.time()-start_time2))"
   ],
   "metadata": {
    "collapsed": false,
    "pycharm": {
     "name": "#%%\n"
    }
   }
  },
  {
   "cell_type": "code",
   "execution_count": 13,
   "outputs": [
    {
     "name": "stdout",
     "output_type": "stream",
     "text": [
      "44.243748\n",
      "(551, 980)\n",
      "[[ 65  78  66 ...  73  74  71]\n",
      " [ 63  70  72 ...  84  50  79]\n",
      " [ 69  77  79 ...  69  75  80]\n",
      " ...\n",
      " [ 88  49  34 ...  14   2  25]\n",
      " [104  78  22 ...  29  25  32]\n",
      " [ 96  53  85 ...  56  20  44]]\n"
     ]
    },
    {
     "data": {
      "text/plain": "-1"
     },
     "execution_count": 13,
     "metadata": {},
     "output_type": "execute_result"
    }
   ],
   "source": [
    "# start_time3 = time.time()\n",
    "# @jit(nopython=True)\n",
    "# def imgloop():\n",
    "#     for i in range(551):\n",
    "#         for j in range(980):\n",
    "#             result2_img[i,j] = gray_img[i,j] + noise[i,j]\n",
    "# imgloop()\n",
    "# print(\"%s seconds in CPU with numba\" %(time.time()-start_time3))\n",
    "\n",
    "\n",
    "print(result_img[550,979])\n",
    "result_img = result_img.astype(np.uint8)\n",
    "print(result_img.shape)\n",
    "print(result_img)\n",
    "cv.imshow(\"gpu_result\",result_img)\n",
    "cv.waitKey(0)"
   ],
   "metadata": {
    "collapsed": false,
    "pycharm": {
     "name": "#%%\n"
    }
   }
  }
 ],
 "metadata": {
  "kernelspec": {
   "display_name": "Python 3",
   "language": "python",
   "name": "python3"
  },
  "language_info": {
   "codemirror_mode": {
    "name": "ipython",
    "version": 2
   },
   "file_extension": ".py",
   "mimetype": "text/x-python",
   "name": "python",
   "nbconvert_exporter": "python",
   "pygments_lexer": "ipython2",
   "version": "2.7.6"
  }
 },
 "nbformat": 4,
 "nbformat_minor": 0
}