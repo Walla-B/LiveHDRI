{
 "cells": [
  {
   "cell_type": "code",
   "execution_count": 3,
   "metadata": {
    "collapsed": true
   },
   "outputs": [],
   "source": [
    "import tensorflow as tf"
   ]
  },
  {
   "cell_type": "code",
   "execution_count": 18,
   "outputs": [
    {
     "name": "stdout",
     "output_type": "stream",
     "text": [
      "3.5777557\n"
     ]
    }
   ],
   "source": [
    "y_true = [0.125, 0.125, 0.25, 0.5]\n",
    "y_pred = [0.25, 0.25, 0.25, 0.25]\n",
    "\n",
    "\n",
    "loss = tf.keras.losses.binary_crossentropy(y_true, y_pred)\n",
    "\n",
    "# assert loss.shape == (1,)\n",
    "\n",
    "print(loss.numpy())"
   ],
   "metadata": {
    "collapsed": false,
    "pycharm": {
     "name": "#%%\n"
    }
   }
  }
 ],
 "metadata": {
  "kernelspec": {
   "display_name": "Python 3",
   "language": "python",
   "name": "python3"
  },
  "language_info": {
   "codemirror_mode": {
    "name": "ipython",
    "version": 2
   },
   "file_extension": ".py",
   "mimetype": "text/x-python",
   "name": "python",
   "nbconvert_exporter": "python",
   "pygments_lexer": "ipython2",
   "version": "2.7.6"
  }
 },
 "nbformat": 4,
 "nbformat_minor": 0
}