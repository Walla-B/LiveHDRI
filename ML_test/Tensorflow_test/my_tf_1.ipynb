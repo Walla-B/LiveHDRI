{
 "cells": [
  {
   "cell_type": "code",
   "execution_count": 1,
   "metadata": {
    "collapsed": true
   },
   "outputs": [],
   "source": [
    "import tensorflow as tf\n",
    "import numpy as np"
   ]
  },
  {
   "cell_type": "code",
   "execution_count": 2,
   "outputs": [],
   "source": [
    "# Every tensor is immutable. can only be created"
   ],
   "metadata": {
    "collapsed": false,
    "pycharm": {
     "name": "#%%\n"
    }
   }
  },
  {
   "cell_type": "code",
   "execution_count": 27,
   "outputs": [
    {
     "name": "stdout",
     "output_type": "stream",
     "text": [
      "tf.Tensor(4.0, shape=(), dtype=float32)\n"
     ]
    }
   ],
   "source": [
    "# How to Create tensor. Can specify datatype\n",
    "tensor = tf.constant(4, dtype=tf.float32)\n",
    "print(tensor)"
   ],
   "metadata": {
    "collapsed": false,
    "pycharm": {
     "name": "#%%\n"
    }
   }
  },
  {
   "cell_type": "code",
   "execution_count": 16,
   "outputs": [
    {
     "name": "stdout",
     "output_type": "stream",
     "text": [
      "<class 'tensorflow.python.framework.ops.EagerTensor'>\n",
      "<dtype: 'int32'>\n",
      "()\n",
      "tf.Tensor(4, shape=(), dtype=int32)\n"
     ]
    }
   ],
   "source": [
    "# Rank-0 tensor (scalar)\n",
    "\n",
    "rank_0_tensor = tf.constant(4)\n",
    "print(type(rank_0_tensor))\n",
    "print(rank_0_tensor.dtype)\n",
    "print(rank_0_tensor.shape)\n",
    "print(rank_0_tensor)"
   ],
   "metadata": {
    "collapsed": false,
    "pycharm": {
     "name": "#%%\n"
    }
   }
  },
  {
   "cell_type": "code",
   "execution_count": 17,
   "outputs": [
    {
     "name": "stdout",
     "output_type": "stream",
     "text": [
      "<class 'tensorflow.python.framework.ops.EagerTensor'>\n",
      "<dtype: 'int32'>\n",
      "(3,)\n",
      "tf.Tensor([4 3 2], shape=(3,), dtype=int32)\n"
     ]
    }
   ],
   "source": [
    "# Rank-1 tensor (vector)\n",
    "\n",
    "rank_1_tensor = tf.constant([4,3,2])\n",
    "print(type(rank_1_tensor))\n",
    "print(rank_1_tensor.dtype)\n",
    "print(rank_1_tensor.shape)\n",
    "print(rank_1_tensor)"
   ],
   "metadata": {
    "collapsed": false,
    "pycharm": {
     "name": "#%%\n"
    }
   }
  },
  {
   "cell_type": "code",
   "execution_count": 18,
   "outputs": [
    {
     "name": "stdout",
     "output_type": "stream",
     "text": [
      "<class 'tensorflow.python.framework.ops.EagerTensor'>\n",
      "<dtype: 'int32'>\n",
      "(3, 3)\n",
      "tf.Tensor(\n",
      "[[4 3 2]\n",
      " [1 2 3]\n",
      " [5 6 7]], shape=(3, 3), dtype=int32)\n"
     ]
    }
   ],
   "source": [
    "# Rank-2 tensor (array)\n",
    "\n",
    "rank_2_tensor = tf.constant([[4,3,2],[1,2,3],[5,6,7]])\n",
    "print(type(rank_2_tensor))\n",
    "print(rank_2_tensor.dtype)\n",
    "print(rank_2_tensor.shape)\n",
    "print(rank_2_tensor)"
   ],
   "metadata": {
    "collapsed": false,
    "pycharm": {
     "name": "#%%\n"
    }
   }
  },
  {
   "cell_type": "code",
   "execution_count": 5,
   "outputs": [
    {
     "name": "stdout",
     "output_type": "stream",
     "text": [
      "tf.Tensor(\n",
      "[[4 3 2]\n",
      " [1 2 3]\n",
      " [5 6 7]], shape=(3, 3), dtype=int32)\n"
     ]
    }
   ],
   "source": [
    "# Rank-n tensor\n",
    "\n",
    "# rank_n_tensor = tf.constant([[[4,3,2],[1,2,3],[5,6,7]] ... [8,7,6],[5,7,8]])\n",
    "# print(rank_n_tensor)"
   ],
   "metadata": {
    "collapsed": false,
    "pycharm": {
     "name": "#%%\n"
    }
   }
  },
  {
   "cell_type": "code",
   "execution_count": 25,
   "outputs": [
    {
     "name": "stdout",
     "output_type": "stream",
     "text": [
      "type of nparr1 : <class 'numpy.ndarray'>\n",
      "type of nparr2 : <class 'numpy.ndarray'>\n"
     ]
    }
   ],
   "source": [
    "# Convert tf.tensor to np.array\n",
    "\n",
    "# method 1. Using np.array()\n",
    "nparr1 = np.array(rank_2_tensor)\n",
    "print('type of nparr1 : ' + str(type(nparr1)))\n",
    "\n",
    "# method 2. Using tensor.numpy()\n",
    "nparr2 = rank_2_tensor.numpy()\n",
    "print('type of nparr2 : ' + str(type(nparr2)))"
   ],
   "metadata": {
    "collapsed": false,
    "pycharm": {
     "name": "#%%\n"
    }
   }
  },
  {
   "cell_type": "code",
   "execution_count": null,
   "outputs": [],
   "source": [],
   "metadata": {
    "collapsed": false,
    "pycharm": {
     "name": "#%%\n"
    }
   }
  }
 ],
 "metadata": {
  "kernelspec": {
   "display_name": "Python 3",
   "language": "python",
   "name": "python3"
  },
  "language_info": {
   "codemirror_mode": {
    "name": "ipython",
    "version": 2
   },
   "file_extension": ".py",
   "mimetype": "text/x-python",
   "name": "python",
   "nbconvert_exporter": "python",
   "pygments_lexer": "ipython2",
   "version": "2.7.6"
  }
 },
 "nbformat": 4,
 "nbformat_minor": 0
}