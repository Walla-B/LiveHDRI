{
 "cells": [
  {
   "cell_type": "code",
   "execution_count": 2,
   "metadata": {
    "collapsed": true
   },
   "outputs": [],
   "source": [
    "import tensorflow as tf\n",
    "import numpy as np"
   ]
  },
  {
   "cell_type": "code",
   "execution_count": 3,
   "outputs": [],
   "source": [
    "# Every tensor is immutable. can only be created"
   ],
   "metadata": {
    "collapsed": false,
    "pycharm": {
     "name": "#%%\n"
    }
   }
  },
  {
   "cell_type": "code",
   "execution_count": 4,
   "outputs": [
    {
     "name": "stdout",
     "output_type": "stream",
     "text": [
      "tf.Tensor(4.0, shape=(), dtype=float32)\n"
     ]
    }
   ],
   "source": [
    "# How to Create tensor. Can specify datatype\n",
    "tensor = tf.constant(4, dtype=tf.float32)\n",
    "print(tensor)"
   ],
   "metadata": {
    "collapsed": false,
    "pycharm": {
     "name": "#%%\n"
    }
   }
  },
  {
   "cell_type": "code",
   "execution_count": 5,
   "outputs": [
    {
     "name": "stdout",
     "output_type": "stream",
     "text": [
      "<class 'tensorflow.python.framework.ops.EagerTensor'>\n",
      "<dtype: 'int32'>\n",
      "()\n",
      "tf.Tensor(4, shape=(), dtype=int32)\n"
     ]
    }
   ],
   "source": [
    "# Rank-0 tensor (scalar)\n",
    "\n",
    "rank_0_tensor = tf.constant(4)\n",
    "print(type(rank_0_tensor))\n",
    "print(rank_0_tensor.dtype)\n",
    "print(rank_0_tensor.shape)\n",
    "print(rank_0_tensor)"
   ],
   "metadata": {
    "collapsed": false,
    "pycharm": {
     "name": "#%%\n"
    }
   }
  },
  {
   "cell_type": "code",
   "execution_count": 6,
   "outputs": [
    {
     "name": "stdout",
     "output_type": "stream",
     "text": [
      "<class 'tensorflow.python.framework.ops.EagerTensor'>\n",
      "<dtype: 'int32'>\n",
      "(3,)\n",
      "tf.Tensor([4 3 2], shape=(3,), dtype=int32)\n"
     ]
    }
   ],
   "source": [
    "# Rank-1 tensor (vector)\n",
    "\n",
    "rank_1_tensor = tf.constant([4,3,2])\n",
    "print(type(rank_1_tensor))\n",
    "print(rank_1_tensor.dtype)\n",
    "print(rank_1_tensor.shape)\n",
    "print(rank_1_tensor)"
   ],
   "metadata": {
    "collapsed": false,
    "pycharm": {
     "name": "#%%\n"
    }
   }
  },
  {
   "cell_type": "code",
   "execution_count": 7,
   "outputs": [
    {
     "name": "stdout",
     "output_type": "stream",
     "text": [
      "<class 'tensorflow.python.framework.ops.EagerTensor'>\n",
      "<dtype: 'int32'>\n",
      "(3, 3)\n",
      "tf.Tensor(\n",
      "[[4 3 2]\n",
      " [1 2 3]\n",
      " [5 6 7]], shape=(3, 3), dtype=int32)\n"
     ]
    }
   ],
   "source": [
    "# Rank-2 tensor (array)\n",
    "\n",
    "rank_2_tensor = tf.constant([[4,3,2],[1,2,3],[5,6,7]])\n",
    "print(type(rank_2_tensor))\n",
    "print(rank_2_tensor.dtype)\n",
    "print(rank_2_tensor.shape)\n",
    "print(rank_2_tensor)"
   ],
   "metadata": {
    "collapsed": false,
    "pycharm": {
     "name": "#%%\n"
    }
   }
  },
  {
   "cell_type": "code",
   "execution_count": 8,
   "outputs": [],
   "source": [
    "# Rank-n tensor\n",
    "\n",
    "# rank_n_tensor = tf.constant([[[4,3,2],[1,2,3],[5,6,7]] ... [8,7,6],[5,7,8]])\n",
    "# print(rank_n_tensor)"
   ],
   "metadata": {
    "collapsed": false,
    "pycharm": {
     "name": "#%%\n"
    }
   }
  },
  {
   "cell_type": "code",
   "execution_count": 9,
   "outputs": [
    {
     "name": "stdout",
     "output_type": "stream",
     "text": [
      "type of nparr1 : <class 'numpy.ndarray'>\n",
      "type of nparr2 : <class 'numpy.ndarray'>\n"
     ]
    }
   ],
   "source": [
    "# Convert tf.tensor to np.array\n",
    "\n",
    "# method 1. Using np.array()\n",
    "nparr1 = np.array(rank_2_tensor)\n",
    "print('type of nparr1 : ' + str(type(nparr1)))\n",
    "\n",
    "# method 2. Using tensor.numpy()\n",
    "nparr2 = rank_2_tensor.numpy()\n",
    "print('type of nparr2 : ' + str(type(nparr2)))"
   ],
   "metadata": {
    "collapsed": false,
    "pycharm": {
     "name": "#%%\n"
    }
   }
  },
  {
   "cell_type": "code",
   "execution_count": 10,
   "outputs": [
    {
     "name": "stdout",
     "output_type": "stream",
     "text": [
      "tf.Tensor(\n",
      "[[2 3]\n",
      " [4 5]], shape=(2, 2), dtype=int32)\n",
      "tf.Tensor(\n",
      "[[1 2]\n",
      " [3 4]], shape=(2, 2), dtype=int32)\n",
      "tf.Tensor(\n",
      "[[3 3]\n",
      " [7 7]], shape=(2, 2), dtype=int32)\n",
      "\n",
      "\n",
      "tf.Tensor(\n",
      "[[2 3]\n",
      " [4 5]], shape=(2, 2), dtype=int32)\n",
      "tf.Tensor(\n",
      "[[1 2]\n",
      " [3 4]], shape=(2, 2), dtype=int32)\n",
      "tf.Tensor(\n",
      "[[3 3]\n",
      " [7 7]], shape=(2, 2), dtype=int32)\n"
     ]
    }
   ],
   "source": [
    "# Basic operations\n",
    "a = tf.constant([[1,2],[3,4]])\n",
    "b = tf.constant([[1,1],[1,1]]) # = tf.ones([2,2])\n",
    "\n",
    "print(tf.add(a,b))      #element-wise operation\n",
    "print(tf.multiply(a,b)) #element-wise operation\n",
    "print(tf.matmul(a,b))   #matrix multiplication\n",
    "print('\\n')\n",
    "# same as..\n",
    "print(a + b)\n",
    "print(a * b)\n",
    "print(a @ b)"
   ],
   "metadata": {
    "collapsed": false,
    "pycharm": {
     "name": "#%%\n"
    }
   }
  },
  {
   "cell_type": "code",
   "execution_count": 11,
   "outputs": [
    {
     "name": "stdout",
     "output_type": "stream",
     "text": [
      "tf.Tensor(7.3, shape=(), dtype=float32)\n",
      "tf.Tensor([1 0], shape=(2,), dtype=int64)\n",
      "tf.Tensor(\n",
      "[[7.5858176e-02 9.2414182e-01]\n",
      " [9.9999547e-01 4.5517231e-06]], shape=(2, 2), dtype=float32)\n",
      "tf.Tensor(\n",
      "[[1.  3.5]\n",
      " [7.3 0. ]], shape=(2, 2), dtype=float32)\n",
      "tf.Tensor(\n",
      "[[0.73105854 0.97068775]\n",
      " [0.9993249  0.00669285]], shape=(2, 2), dtype=float32)\n"
     ]
    }
   ],
   "source": [
    "# Other operations\n",
    "c = tf.constant([[1.0, 3.5],[7.3, -5.0]])\n",
    "\n",
    "# Find the largest value\n",
    "print(tf.reduce_max(c))\n",
    "# Find the index of the largest value\n",
    "print(tf.argmax(c))\n",
    "# Compute the softmax\n",
    "print(tf.nn.softmax(c))\n",
    "# set negative value to zero\n",
    "print(tf.nn.relu(c))\n",
    "print(tf.nn.sigmoid(c))"
   ],
   "metadata": {
    "collapsed": false,
    "pycharm": {
     "name": "#%%\n"
    }
   }
  },
  {
   "cell_type": "code",
   "execution_count": 15,
   "outputs": [
    {
     "name": "stdout",
     "output_type": "stream",
     "text": [
      "[[4 5 4]\n",
      " [7 3 2]\n",
      " [1 8 4]]\n",
      "38\n",
      "107520\n",
      "8\n",
      "1\n",
      "4\n",
      "False\n",
      "True\n",
      "[12 16 10]\n"
     ]
    }
   ],
   "source": [
    "# tf.reduce API\n",
    "\n",
    "t1 = tf.random.uniform((3,3), maxval=10, dtype=tf.int32)\n",
    "t2 = tf.constant([True, True, False])\n",
    "print(t1.numpy())\n",
    "\n",
    "print(tf.reduce_sum(t1).numpy()) # sum of all elements\n",
    "print(tf.reduce_prod(t1).numpy()) # product of all elements\n",
    "print(tf.reduce_max(t1).numpy()) # maximum of all elements\n",
    "print(tf.reduce_min(t1).numpy()) # minimum of all elements\n",
    "print(tf.reduce_mean(t1).numpy()) # mean value of all elements\n",
    "print(tf.reduce_all(t2).numpy()) # AND operation\n",
    "print(tf.reduce_any(t2).numpy()) # OR operation\n",
    "\n",
    "# tf.reduce operation with specified axis (channel-wise operation)\n",
    "print(tf.reduce_sum(t1, axis=0).numpy())"
   ],
   "metadata": {
    "collapsed": false,
    "pycharm": {
     "name": "#%%\n"
    }
   }
  },
  {
   "cell_type": "code",
   "execution_count": 12,
   "outputs": [
    {
     "name": "stdout",
     "output_type": "stream",
     "text": [
      "Type of elements : <dtype: 'float32'>\n",
      "Number of axes : 4\n",
      "Number of tensor : (3, 2, 4, 5)\n",
      "Elements along axis 0 of tensor : 3\n",
      "Elements along last axis of tensor : 5\n",
      "Total number of elements (3*2*4*5) : 120\n"
     ]
    }
   ],
   "source": [
    "# Tensor shapes\n",
    "rank_4_tensor = tf.zeros([3,2,4,5])\n",
    "print(\"Type of elements :\", rank_4_tensor.dtype)\n",
    "print(\"Number of axes :\", rank_4_tensor.ndim)\n",
    "print(\"Number of tensor :\", rank_4_tensor.shape)\n",
    "print(\"Elements along axis 0 of tensor :\", rank_4_tensor.shape[0])\n",
    "print(\"Elements along last axis of tensor :\", rank_4_tensor.shape[-1])\n",
    "print(\"Total number of elements (3*2*4*5) :\", tf.size(rank_4_tensor).numpy())\n",
    "\n",
    "# shape : [3, 2, 4, 5]\n",
    "# The length (number of elements) of each of the axes of a tensor\n",
    "\n",
    "# Rank : 4\n",
    "# Number of tensor axes\n",
    "\n",
    "# Axis / Dimension\n",
    "# A particular dimension of a tensor\n",
    "\n",
    "# Size : 120\n",
    "# The total number of items in the tensor, the product shape vector\n",
    "\n",
    "# Typical axis order of a rank-4-tensor\n",
    "# | Batch | Width | Height | Features"
   ],
   "metadata": {
    "collapsed": false,
    "pycharm": {
     "name": "#%%\n"
    }
   }
  },
  {
   "cell_type": "code",
   "execution_count": 13,
   "outputs": [
    {
     "name": "stdout",
     "output_type": "stream",
     "text": [
      "[ 0  1  1  2  3  5  8 13 21 34]\n",
      "First :  0\n",
      "Second :  1\n",
      "Last :  34\n",
      "Everything :  [ 0  1  1  2  3  5  8 13 21 34]\n",
      "Before 4 :  [0 1 1 2]\n",
      "From 4 to the end :  [ 3  5  8 13 21 34]\n",
      "From 2, before 7 :  [1 2 3 5 8]\n",
      "Every other item :  [ 0  1  3  8 21]\n",
      "Reversed :  [34 21 13  8  5  3  2  1  1  0]\n",
      "[[4 3 2]\n",
      " [1 2 3]\n",
      " [5 6 7]]\n",
      "Single value :  2\n",
      "Second row :  [1 2 3]\n",
      "Second column :  [3 2 6]\n",
      "Last row :  [5 6 7]\n",
      "First item in Last column :  2\n",
      "Skip the first row :  [[1 2 3]\n",
      " [5 6 7]]\n"
     ]
    }
   ],
   "source": [
    "# Indexing\n",
    "# Same as python indexing rule\n",
    "\n",
    "# Single-axis indexing\n",
    "rank_1_tensor = tf.constant([0, 1, 1, 2, 3, 5, 8, 13, 21, 34])\n",
    "print(rank_1_tensor.numpy())\n",
    "print(\"First : \", rank_1_tensor[0].numpy())\n",
    "print(\"Second : \", rank_1_tensor[1].numpy())\n",
    "print(\"Last : \", rank_1_tensor[-1].numpy())\n",
    "\n",
    "print(\"Everything : \", rank_1_tensor[:].numpy())\n",
    "print(\"Before 4 : \", rank_1_tensor[:4].numpy())\n",
    "print(\"From 4 to the end : \", rank_1_tensor[4:].numpy())\n",
    "print(\"From 2, before 7 : \", rank_1_tensor[2:7].numpy())\n",
    "print(\"Every other item : \", rank_1_tensor[::2].numpy())\n",
    "print(\"Reversed : \", rank_1_tensor[::-1].numpy())\n",
    "\n",
    "# Multi-axis indexing\n",
    "print(rank_2_tensor.numpy())\n",
    "\n",
    "print(\"Single value : \", rank_2_tensor[1,1].numpy())\n",
    "print(\"Second row : \", rank_2_tensor[1,:].numpy())\n",
    "print(\"Second column : \", rank_2_tensor[:,1].numpy())\n",
    "print(\"Last row : \", rank_2_tensor[-1,:].numpy())\n",
    "print(\"First item in Last column : \", rank_2_tensor[0,-1].numpy())\n",
    "print(\"Skip the first row : \", rank_2_tensor[1:,:].numpy())"
   ],
   "metadata": {
    "collapsed": false,
    "pycharm": {
     "name": "#%%\n"
    }
   }
  },
  {
   "cell_type": "code",
   "execution_count": 24,
   "outputs": [
    {
     "name": "stdout",
     "output_type": "stream",
     "text": [
      "(3, 1)\n",
      "<class 'tensorflow.python.framework.tensor_shape.TensorShape'>\n",
      "[3, 1]\n",
      "<class 'list'>\n",
      "(3, 1)\n",
      "(1, 3)\n",
      "tf.Tensor(\n",
      "[[[ 0  1  2  3  4]\n",
      "  [ 5  6  7  8  9]]\n",
      "\n",
      " [[10 11 12 13 14]\n",
      "  [15 16 17 18 19]]\n",
      "\n",
      " [[20 21 22 23 24]\n",
      "  [25 26 27 28 29]]], shape=(3, 2, 5), dtype=int32)\n",
      "tf.Tensor(\n",
      "[ 0  1  2  3  4  5  6  7  8  9 10 11 12 13 14 15 16 17 18 19 20 21 22 23\n",
      " 24 25 26 27 28 29], shape=(30,), dtype=int32)\n",
      "tf.Tensor(\n",
      "[[ 0  1  2  3  4]\n",
      " [ 5  6  7  8  9]\n",
      " [10 11 12 13 14]\n",
      " [15 16 17 18 19]\n",
      " [20 21 22 23 24]\n",
      " [25 26 27 28 29]], shape=(6, 5), dtype=int32)\n",
      "tf.Tensor(\n",
      "[[ 0  1  2  3  4  5  6  7  8  9]\n",
      " [10 11 12 13 14 15 16 17 18 19]\n",
      " [20 21 22 23 24 25 26 27 28 29]], shape=(3, 10), dtype=int32)\n",
      "tf.Tensor(\n",
      "[[[ 0  1  2  3  4]\n",
      "  [ 5  6  7  8  9]\n",
      "  [10 11 12 13 14]]\n",
      "\n",
      " [[15 16 17 18 19]\n",
      "  [20 21 22 23 24]\n",
      "  [25 26 27 28 29]]], shape=(2, 3, 5), dtype=int32)\n"
     ]
    }
   ],
   "source": [
    "# Manipulating Shapes\n",
    "x = tf.constant([[1],[2],[3]])\n",
    "print(x.shape)\n",
    "print(type(x.shape))\n",
    "\n",
    "# Convert \"Tensorshape\" object to python List\n",
    "print(x.shape.as_list())\n",
    "print(type(x.shape.as_list()))\n",
    "\n",
    "reshaped = tf.reshape(x, [1, 3])\n",
    "\n",
    "print(x.shape)\n",
    "print(reshaped.shape)\n",
    "\n",
    "rank_3_tensor = tf.constant([[[0,1,2,3,4],[5,6,7,8,9]],[[10,11,12,13,14],[15,16,17,18,19]],[[20,21,22,23,24],[25,26,27,28,29]]])\n",
    "print(rank_3_tensor)\n",
    "\n",
    "print(tf.reshape(rank_3_tensor, [-1])) # -1 means : Whatever fits\n",
    "print(tf.reshape(rank_3_tensor,[6,5]))\n",
    "print(tf.reshape(rank_3_tensor,[3,-1]))\n",
    "\n",
    "# Bad examples for reshaping tensors\n",
    "print(tf.reshape(rank_3_tensor, [2,3,5])) # Cannot reorder axes with reshape. use tf.transpose instead."
   ],
   "metadata": {
    "collapsed": false,
    "pycharm": {
     "name": "#%%\n"
    }
   }
  },
  {
   "cell_type": "code",
   "execution_count": 25,
   "outputs": [
    {
     "name": "stdout",
     "output_type": "stream",
     "text": [
      "tf.Tensor([2 3 4], shape=(3,), dtype=uint8)\n"
     ]
    }
   ],
   "source": [
    "# when not specified, python integers will be tf.int32, and python floating points to tf.float32\n",
    "\n",
    "the_f64_tensor = tf.constant([2.2,3.3,4.4], dtype=tf.float64)\n",
    "the_f16_tensor = tf.cast(the_f64_tensor, dtype=tf.float16)\n",
    "the_u8_tensor = tf.cast(the_f16_tensor, dtype=tf.uint8)\n",
    "print(the_u8_tensor)"
   ],
   "metadata": {
    "collapsed": false,
    "pycharm": {
     "name": "#%%\n"
    }
   }
  },
  {
   "cell_type": "code",
   "execution_count": 35,
   "outputs": [
    {
     "name": "stdout",
     "output_type": "stream",
     "text": [
      "tf.Tensor([2 4 6], shape=(3,), dtype=int32)\n",
      "tf.Tensor([2 4 6], shape=(3,), dtype=int32)\n",
      "tf.Tensor([2 4 6], shape=(3,), dtype=int32)\n",
      "tf.Tensor(\n",
      "[[1]\n",
      " [2]\n",
      " [3]], shape=(3, 1), dtype=int32)\n",
      "tf.Tensor([1 2 3 4], shape=(4,), dtype=int32)\n",
      "tf.Tensor(\n",
      "[[ 1  2  3  4]\n",
      " [ 2  4  6  8]\n",
      " [ 3  6  9 12]], shape=(3, 4), dtype=int32)\n",
      "tf.Tensor(\n",
      "[[1 2 3]\n",
      " [1 2 3]], shape=(2, 3), dtype=int32)\n"
     ]
    }
   ],
   "source": [
    "# Broadcasting\n",
    "# Similar feature as numpy\n",
    "\n",
    "x = tf.constant([1,2,3])\n",
    "y = tf.constant(2)\n",
    "z = tf.constant([2,2,2])\n",
    "\n",
    "# All operations are equal\n",
    "print(tf.multiply(x,2))\n",
    "print(x * y)\n",
    "print(x * z)\n",
    "\n",
    "x = tf.reshape(x, [3,1])\n",
    "y = tf.range(1,5)\n",
    "print(x)\n",
    "print(y)\n",
    "\n",
    "print(tf.multiply(x,y))\n",
    "# Same as multiplying\n",
    "# x : [1,1,1,1],\n",
    "#     [2,2,2,2],\n",
    "#     [3,3,3,3],\n",
    "#     [4,4,4,4]\n",
    "\n",
    "# y : [1,2,3,4],\n",
    "#     [1,2,3,4],\n",
    "#     [1,2,3,4],\n",
    "#     [1,2,3,4]\n",
    "\n",
    "# materialize broadcasted tensor\n",
    "print(tf.broadcast_to(tf.constant([1,2,3]),[2,3]))"
   ],
   "metadata": {
    "collapsed": false,
    "pycharm": {
     "name": "#%%\n"
    }
   }
  },
  {
   "cell_type": "code",
   "execution_count": 39,
   "outputs": [
    {
     "name": "stdout",
     "output_type": "stream",
     "text": [
      "ValueError: Can't convert non-rectangular Python sequence to Tensor.\n",
      "<tf.RaggedTensor [[0, 1, 2, 3], [4, 5], [6, 7, 8], [9]]>\n",
      "(4, None)\n"
     ]
    }
   ],
   "source": [
    "# Ragged tensors\n",
    "# tensor with variable numbers of elements along some axis is called ragged tensor\n",
    "\n",
    "ragged_list = [[0,1,2,3],[4,5],[6,7,8],[9]]\n",
    "\n",
    "try:\n",
    "    tensor = tf.constant(ragged_list)\n",
    "except Exception as e:\n",
    "    print(f\"{type(e).__name__}: {e}\")\n",
    "\n",
    "ragged_tensor = tf.ragged.constant(ragged_list)\n",
    "print(ragged_tensor)\n",
    "print(ragged_tensor.shape)"
   ],
   "metadata": {
    "collapsed": false,
    "pycharm": {
     "name": "#%%\n"
    }
   }
  },
  {
   "cell_type": "code",
   "execution_count": 44,
   "outputs": [
    {
     "name": "stdout",
     "output_type": "stream",
     "text": [
      "tf.Tensor([b'Gray wolf'], shape=(1,), dtype=string)\n",
      "tf.Tensor([b'Gray wolf' b'Quick brown fox' b'Laxy dog'], shape=(3,), dtype=string)\n",
      "<tf.RaggedTensor [[b'Gray', b'wolf']]>\n",
      "<tf.RaggedTensor [[b'Gray', b'wolf'], [b'Quick', b'brown', b'fox'], [b'Laxy', b'dog']]>\n"
     ]
    }
   ],
   "source": [
    "# String tensors\n",
    "\n",
    "scalar_string_tensor = tf.constant(['Gray wolf'])\n",
    "print(scalar_string_tensor)\n",
    "\n",
    "tensor_of_strings = tf.constant(['Gray wolf','Quick brown fox','Laxy dog'])\n",
    "print(tensor_of_strings)\n",
    "\n",
    "print(tf.strings.split(scalar_string_tensor, sep= \" \"))\n",
    "print(tf.strings.split(tensor_of_strings, sep= \" \"))"
   ],
   "metadata": {
    "collapsed": false,
    "pycharm": {
     "name": "#%%\n"
    }
   }
  },
  {
   "cell_type": "code",
   "execution_count": 46,
   "outputs": [
    {
     "name": "stdout",
     "output_type": "stream",
     "text": [
      "SparseTensor(indices=tf.Tensor(\n",
      "[[0 0]\n",
      " [1 2]], shape=(2, 2), dtype=int64), values=tf.Tensor([1 2], shape=(2,), dtype=int32), dense_shape=tf.Tensor([3 4], shape=(2,), dtype=int64))\n",
      "tf.Tensor(\n",
      "[[1 0 0 0]\n",
      " [0 0 2 0]\n",
      " [0 0 0 0]], shape=(3, 4), dtype=int32)\n"
     ]
    }
   ],
   "source": [
    "# Sparse tensors\n",
    "# tensor with sparse data with embedding spaces\n",
    "\n",
    "sparse_tensor = tf.sparse.SparseTensor(indices=[[0,0],[1,2]],\n",
    "                                       values=[1,2],\n",
    "                                       dense_shape=[3,4])\n",
    "\n",
    "print(sparse_tensor)\n",
    "# convert sparse tensor to dense tensor\n",
    "\n",
    "print(tf.sparse.to_dense(sparse_tensor))"
   ],
   "metadata": {
    "collapsed": false,
    "pycharm": {
     "name": "#%%\n"
    }
   }
  }
 ],
 "metadata": {
  "kernelspec": {
   "display_name": "Python 3",
   "language": "python",
   "name": "python3"
  },
  "language_info": {
   "codemirror_mode": {
    "name": "ipython",
    "version": 2
   },
   "file_extension": ".py",
   "mimetype": "text/x-python",
   "name": "python",
   "nbconvert_exporter": "python",
   "pygments_lexer": "ipython2",
   "version": "2.7.6"
  }
 },
 "nbformat": 4,
 "nbformat_minor": 0
}