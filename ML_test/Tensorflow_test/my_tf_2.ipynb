{
 "cells": [
  {
   "cell_type": "code",
   "execution_count": 2,
   "metadata": {
    "collapsed": true
   },
   "outputs": [],
   "source": [
    "import tensorflow as tf\n",
    "import numpy as np"
   ]
  },
  {
   "cell_type": "code",
   "execution_count": 3,
   "outputs": [
    {
     "name": "stdout",
     "output_type": "stream",
     "text": [
      "tf.Tensor(2, shape=(), dtype=int32) \n",
      "\n",
      "tf.Tensor(\n",
      "[[1. 2.]\n",
      " [3. 4.]], shape=(2, 2), dtype=float32) \n",
      "\n",
      "<tf.Variable 'Variable:0' shape=(2, 2) dtype=float32, numpy=\n",
      "array([[1., 2.],\n",
      "       [3., 4.]], dtype=float32)> \n",
      "\n",
      "Shape :  (2, 2)\n",
      "Dtype :  <dtype: 'float32'>\n",
      "As numpy :  [[1. 2.]\n",
      " [3. 4.]]\n"
     ]
    }
   ],
   "source": [
    "# Variables\n",
    "# tf.Variables represents a tensor whose value can be manipulated.\n",
    "\n",
    "sample_tensor = tf.constant([2,3])\n",
    "print(sample_tensor[0],'\\n') # 2\n",
    "# sample_tensor[0] += 1 # Error\n",
    "\n",
    "my_tensor = tf.constant([[1.0, 2.0],[3.0, 4.0]])\n",
    "my_variable = tf.Variable(my_tensor)\n",
    "\n",
    "print(my_tensor, '\\n')\n",
    "print(my_variable,'\\n')\n",
    "\n",
    "bool_variable = tf.Variable([False,False,False,True])\n",
    "complex_variable = tf.Variable([5 + 4j, 6 + 1j])\n",
    "\n",
    "# tf.Variables are backed by tensors. like tensors, they have dtype and shape\n",
    "\n",
    "print(\"Shape : \",my_variable.shape)\n",
    "print(\"Dtype : \",my_variable.dtype)\n",
    "print(\"As numpy : \",my_variable.numpy())"
   ],
   "metadata": {
    "collapsed": false,
    "pycharm": {
     "name": "#%%\n"
    }
   }
  },
  {
   "cell_type": "code",
   "execution_count": 4,
   "outputs": [
    {
     "name": "stdout",
     "output_type": "stream",
     "text": [
      "A variable :  <tf.Variable 'Variable:0' shape=(2, 2) dtype=float32, numpy=\n",
      "array([[1., 2.],\n",
      "       [3., 4.]], dtype=float32)>\n",
      "Viewed as a tensor :  tf.Tensor(\n",
      "[[1. 2.]\n",
      " [3. 4.]], shape=(2, 2), dtype=float32)\n",
      "Index of highest value :  tf.Tensor([1 1], shape=(2,), dtype=int64)\n",
      "Copying and reshaping :  tf.Tensor([[1. 2. 3. 4.]], shape=(1, 4), dtype=float32)\n"
     ]
    }
   ],
   "source": [
    "print(\"A variable : \", my_variable)\n",
    "print(\"Viewed as a tensor : \", tf.convert_to_tensor(my_variable))\n",
    "print(\"Index of highest value : \", tf.argmax(my_variable))\n",
    "\n",
    "print(\"Copying and reshaping : \", tf.reshape(my_variable, [1,4]))"
   ],
   "metadata": {
    "collapsed": false,
    "pycharm": {
     "name": "#%%\n"
    }
   }
  },
  {
   "cell_type": "code",
   "execution_count": 6,
   "outputs": [
    {
     "name": "stdout",
     "output_type": "stream",
     "text": [
      "<tf.Variable 'Variable:0' shape=(2,) dtype=float32, numpy=array([1., 2.], dtype=float32)>\n",
      "ValueError: Cannot assign value to variable ' Variable:0': Shape mismatch.The variable shape (2,), and the assigned value shape (3,) are incompatible.\n"
     ]
    }
   ],
   "source": [
    "# reassign the tensor using tf.Variable.assign. it does not allocate new tensor. instead, existing tensor's memory is reused.\n",
    "a = tf.Variable([2.0, 3.0])\n",
    "a.assign([1,2])\n",
    "\n",
    "# after assigning, dtype is still float32.\n",
    "print(a)\n",
    "# Not allowed, because it resizes the variable.\n",
    "try:\n",
    "    a.assign([1.0, 2.0, 3.0])\n",
    "except Exception as e:\n",
    "    print(f\"{type(e).__name__}: {e}\")"
   ],
   "metadata": {
    "collapsed": false,
    "pycharm": {
     "name": "#%%\n"
    }
   }
  },
  {
   "cell_type": "code",
   "execution_count": 8,
   "outputs": [
    {
     "name": "stdout",
     "output_type": "stream",
     "text": [
      "[5. 6.]\n",
      "[2. 3.]\n",
      "[7. 9.]\n",
      "[0. 0.]\n"
     ]
    }
   ],
   "source": [
    "a = tf.Variable([2.0, 3.0])\n",
    "b = tf.Variable(a)\n",
    "a.assign([5,6])\n",
    "\n",
    "# creating new variable based on existiong variable wil copy the variable. (shallow copy)\n",
    "print(a.numpy())\n",
    "print(b.numpy())\n",
    "\n",
    "# other assigning methods\n",
    "print(a.assign_add([2,3]).numpy())\n",
    "print(a.assign_sub([7,9]).numpy())"
   ],
   "metadata": {
    "collapsed": false,
    "pycharm": {
     "name": "#%%\n"
    }
   }
  },
  {
   "cell_type": "code",
   "execution_count": 11,
   "outputs": [
    {
     "name": "stdout",
     "output_type": "stream",
     "text": [
      "tf.Tensor(\n",
      "[[False False]\n",
      " [False False]], shape=(2, 2), dtype=bool)\n"
     ]
    }
   ],
   "source": [
    "a = tf.Variable(my_tensor, name=\"Mark\")\n",
    "b = tf.Variable(my_tensor + 1, name=\"Mark\")\n",
    "\n",
    "print(a==b)\n",
    "step_counter = tf.Variable(1, trainable=False)"
   ],
   "metadata": {
    "collapsed": false,
    "pycharm": {
     "name": "#%%\n"
    }
   }
  },
  {
   "cell_type": "code",
   "execution_count": 12,
   "outputs": [
    {
     "name": "stdout",
     "output_type": "stream",
     "text": [
      "tf.Tensor(\n",
      "[[22. 28.]\n",
      " [49. 64.]], shape=(2, 2), dtype=float32)\n"
     ]
    }
   ],
   "source": [
    "# Placing variables and tensors (GPU or CPU)\n",
    "\n",
    "with tf.device('CPU:0'):\n",
    "    a = tf.Variable([[1.0, 2.0, 3.0],[4.0, 5.0, 6.0]])\n",
    "    b = tf.constant([[1.0,2.0],[3.0,4.0],[5.0,6.0]])\n",
    "    c = tf.matmul(a,b)\n",
    "print(c)"
   ],
   "metadata": {
    "collapsed": false,
    "pycharm": {
     "name": "#%%\n"
    }
   }
  },
  {
   "cell_type": "code",
   "execution_count": 13,
   "outputs": [
    {
     "name": "stdout",
     "output_type": "stream",
     "text": [
      "tf.Tensor(\n",
      "[[ 1.  4.  9.]\n",
      " [ 4. 10. 18.]], shape=(2, 3), dtype=float32)\n"
     ]
    }
   ],
   "source": [
    "with tf.device('CPU:0'):\n",
    "    a = tf.Variable([[1.0, 2.0, 3.0],[4.0, 5.0, 6.0]])\n",
    "    b = tf.Variable([1.0,2.0,3.0])\n",
    "with tf.device('GPU:0'):\n",
    "    k = a * b\n",
    "\n",
    "print(k)"
   ],
   "metadata": {
    "collapsed": false,
    "pycharm": {
     "name": "#%%\n"
    }
   }
  }
 ],
 "metadata": {
  "kernelspec": {
   "display_name": "Python 3",
   "language": "python",
   "name": "python3"
  },
  "language_info": {
   "codemirror_mode": {
    "name": "ipython",
    "version": 2
   },
   "file_extension": ".py",
   "mimetype": "text/x-python",
   "name": "python",
   "nbconvert_exporter": "python",
   "pygments_lexer": "ipython2",
   "version": "2.7.6"
  }
 },
 "nbformat": 4,
 "nbformat_minor": 0
}