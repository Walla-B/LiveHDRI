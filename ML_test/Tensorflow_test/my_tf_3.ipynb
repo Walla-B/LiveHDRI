{
 "cells": [
  {
   "cell_type": "code",
   "execution_count": 1,
   "metadata": {
    "collapsed": true
   },
   "outputs": [],
   "source": [
    "import tensorflow as tf\n",
    "import numpy as np\n",
    "import matplotlib.pyplot as plt"
   ]
  },
  {
   "cell_type": "code",
   "execution_count": 2,
   "outputs": [
    {
     "name": "stdout",
     "output_type": "stream",
     "text": [
      "tf.Tensor(6.0, shape=(), dtype=float32)\n"
     ]
    }
   ],
   "source": [
    "# Automatic Differentation and Gradients"
   ],
   "metadata": {
    "collapsed": false,
    "pycharm": {
     "name": "#%%\n"
    }
   }
  },
  {
   "cell_type": "code",
   "execution_count": 3,
   "outputs": [
    {
     "name": "stdout",
     "output_type": "stream",
     "text": [
      "[[-0.11633541  0.96181154]\n",
      " [ 1.3043921  -2.449863  ]\n",
      " [ 0.6238447  -0.5631668 ]]\n",
      "[0. 0.]\n",
      "(3, 2)\n",
      "[[-0.11633541  0.96181154]\n",
      " [ 1.3043921  -2.449863  ]\n",
      " [ 0.6238447  -0.5631668 ]]\n",
      "(3, 2)\n",
      "[[  4.3639827  -5.627415 ]\n",
      " [  8.727965  -11.25483  ]\n",
      " [ 13.091948  -16.882246 ]]\n"
     ]
    },
    {
     "data": {
      "text/plain": "<tf.Tensor: shape=(2,), dtype=float32, numpy=array([ 4.3639827, -5.627415 ], dtype=float32)>"
     },
     "execution_count": 3,
     "metadata": {},
     "output_type": "execute_result"
    }
   ],
   "source": [
    "w = tf.Variable(tf.random.normal((3,2), name='w'))\n",
    "b = tf.Variable(tf.zeros(2, dtype=tf.float32), name='b')\n",
    "x = [[1.0, 2.0, 3.0]]\n",
    "\n",
    "print(w.numpy())\n",
    "print(b.numpy())\n",
    "\n",
    "with tf.GradientTape(persistent=True) as tape:\n",
    "    y = x @ w + b\n",
    "    loss = tf.reduce_mean(y**2)\n",
    "\n",
    "[dl_dw, dl_db] = tape.gradient(loss, [w,b])\n",
    "\n",
    "print(w.shape)\n",
    "print(w.numpy())\n",
    "print(dl_dw.shape)\n",
    "print(dl_dw.numpy())\n",
    "\n",
    "my_vars = {\n",
    "    'w' : w,\n",
    "    'b' : b\n",
    "}\n",
    "\n",
    "grad = tape.gradient(loss,my_vars)\n",
    "grad['b']"
   ],
   "metadata": {
    "collapsed": false,
    "pycharm": {
     "name": "#%%\n"
    }
   }
  },
  {
   "cell_type": "code",
   "execution_count": 5,
   "outputs": [
    {
     "name": "stdout",
     "output_type": "stream",
     "text": [
      "dense_1/kernel:0, shape: (3, 2)\n",
      "dense_1/bias:0, shape: (2,)\n"
     ]
    }
   ],
   "source": [
    "layer = tf.keras.layers.Dense(2, activation='relu')\n",
    "x= tf.constant([[1.0, 2.0, 3.0]])\n",
    "\n",
    "with tf.GradientTape() as tape:\n",
    "    # forward pass\n",
    "    y = layer(x)\n",
    "    loss = tf.reduce_mean(y**2)\n",
    "\n",
    "grad = tape.gradient(loss, layer.trainable_variables)\n",
    "\n",
    "for var, g in zip(layer.trainable_variables, grad):\n",
    "    print(f'{var.name}, shape: {g.shape}')"
   ],
   "metadata": {
    "collapsed": false,
    "pycharm": {
     "name": "#%%\n"
    }
   }
  },
  {
   "cell_type": "code",
   "execution_count": 18,
   "outputs": [
    {
     "name": "stdout",
     "output_type": "stream",
     "text": [
      "tf.Tensor(12.0, shape=(), dtype=float32)\n"
     ]
    }
   ],
   "source": [
    "a, y = tf.constant(2.0), tf.constant(8.0)\n",
    "x = tf.Variable(10.0)\n",
    "\n",
    "loss= tf.math.abs(a * x - y)\n",
    "\n",
    "print(loss)"
   ],
   "metadata": {
    "collapsed": false,
    "pycharm": {
     "name": "#%%\n"
    }
   }
  },
  {
   "cell_type": "code",
   "execution_count": 19,
   "outputs": [
    {
     "name": "stdout",
     "output_type": "stream",
     "text": [
      "12.0\n",
      "x = 10.0, dx = 2.00\n",
      "8.0\n",
      "x = 8.0, dx = 2.00\n",
      "4.0\n",
      "x = 6.0, dx = 2.00\n",
      "0.0\n",
      "x = 4.0, dx = 0.00\n",
      "0.0\n",
      "x = 4.0, dx = 0.00\n",
      "0.0\n",
      "x = 4.0, dx = 0.00\n"
     ]
    }
   ],
   "source": [
    "def train_func():\n",
    "    with tf.GradientTape() as tape1:\n",
    "        loss1 = tf.math.abs(a * x - y)\n",
    "        print(loss1.numpy())\n",
    "\n",
    "    dx = tape1.gradient(loss1,x)\n",
    "    print('x = {}, dx = {:.2f}'.format(x.numpy(), dx))\n",
    "\n",
    "    x.assign(x - dx)\n",
    "\n",
    "\n",
    "for i in range(6):\n",
    "    train_func()"
   ],
   "metadata": {
    "collapsed": false,
    "pycharm": {
     "name": "#%%\n"
    }
   }
  },
  {
   "cell_type": "code",
   "execution_count": 20,
   "outputs": [
    {
     "name": "stdout",
     "output_type": "stream",
     "text": [
      "tf.Tensor(6.0, shape=(), dtype=float32)\n"
     ]
    }
   ],
   "source": [
    "x = tf.Variable(3.0)\n",
    "\n",
    "with tf.GradientTape() as tape:\n",
    "    y = x**2\n",
    "\n",
    "    dy_dx = tape.gradient(y,x)\n",
    "    dy_dx.numpy()\n",
    "\n",
    "print(dy_dx)\n"
   ],
   "metadata": {
    "collapsed": false,
    "pycharm": {
     "name": "#%%\n"
    }
   }
  },
  {
   "cell_type": "code",
   "execution_count": 28,
   "outputs": [
    {
     "data": {
      "text/plain": "<Figure size 432x288 with 1 Axes>",
      "image/png": "[encoded data removed]"
     },
     "metadata": {
      "needs_background": "light"
     },
     "output_type": "display_data"
    },
    {
     "data": {
      "text/plain": "[]"
     },
     "execution_count": 28,
     "metadata": {},
     "output_type": "execute_result"
    }
   ],
   "source": [
    "#Derivative of Sigmoid function\n",
    "\n",
    "x = tf.linspace(-10.0, 10.0, 200+1)\n",
    "\n",
    "with tf.GradientTape() as tape:\n",
    "    tape.watch(x)\n",
    "    y = tf.nn.sigmoid(x)\n",
    "\n",
    "dy_dx = tape.gradient(y,x)\n",
    "\n",
    "plt.plot(x,y,'r-',label='y')\n",
    "plt.plot(x,dy_dx,'b--',label='dy/dx')\n",
    "\n",
    "plt.legend()\n",
    "_ = plt.xlabel('x')\n",
    "\n",
    "plt.show()\n",
    "\n",
    "\n",
    "[var.name for var in tape.watched_variables()]"
   ],
   "metadata": {
    "collapsed": false,
    "pycharm": {
     "name": "#%%\n"
    }
   }
  },
  {
   "cell_type": "code",
   "execution_count": 29,
   "outputs": [
    {
     "name": "stdout",
     "output_type": "stream",
     "text": [
      "tf.Tensor(6.0, shape=(), dtype=float32)\n",
      "None\n",
      "None\n",
      "None\n"
     ]
    },
    {
     "data": {
      "text/plain": "['x0:0']"
     },
     "execution_count": 29,
     "metadata": {},
     "output_type": "execute_result"
    }
   ],
   "source": [
    "# Trainable\n",
    "x0 = tf.Variable(3.0,name='x0')\n",
    "# Not Trainable\n",
    "x1 = tf.Variable(3.0,name='x1', trainable=False)\n",
    "# Variable + Tensor = Tensor\n",
    "x2 = tf.Variable(2.0,name='x2') + 1.0\n",
    "# Not a Variable\n",
    "x3 = tf.constant(3.0,name='x3')\n",
    "\n",
    "with tf.GradientTape() as tape:\n",
    "    y = (x0**2) + (x1**2) + (x2**2)\n",
    "\n",
    "grad = tape.gradient(y,[x0,x1,x2,x3])\n",
    "\n",
    "for g in grad:\n",
    "    print(g)\n",
    "\n",
    "[var.name for var in tape.watched_variables()]"
   ],
   "metadata": {
    "collapsed": false,
    "pycharm": {
     "name": "#%%\n"
    }
   }
  },
  {
   "cell_type": "code",
   "execution_count": 30,
   "outputs": [
    {
     "name": "stdout",
     "output_type": "stream",
     "text": [
      "tf.Tensor(6.0, shape=(), dtype=float32)\n"
     ]
    }
   ],
   "source": [
    "x = tf.constant(3.0)\n",
    "\n",
    "with tf.GradientTape() as tape:\n",
    "    tape.watch(x)\n",
    "    y = x**2\n",
    "\n",
    "dy_dx = tape.gradient(y,x)\n",
    "print(dy_dx)"
   ],
   "metadata": {
    "collapsed": false,
    "pycharm": {
     "name": "#%%\n"
    }
   }
  },
  {
   "cell_type": "code",
   "execution_count": 28,
   "outputs": [
    {
     "name": "stdout",
     "output_type": "stream",
     "text": [
      "dy/dx0 -4.0\n",
      "dy/dx1 4.0\n"
     ]
    }
   ],
   "source": [
    "x0 = tf.Variable(3.141592)\n",
    "x1 = tf.Variable(0.0)\n",
    "\n",
    "with tf.GradientTape(watch_accessed_variables=False) as tape:\n",
    "    # record certain variables to tape\n",
    "    tape.watch(x0)\n",
    "    tape.watch(x1)\n",
    "\n",
    "    # define function\n",
    "    y0 = tf.math.sin(x0)\n",
    "    y1 = tf.math.sin(x1)\n",
    "\n",
    "    # use that function to create another function\n",
    "    y = ( y0 + y1 )* 2\n",
    "\n",
    "    ys = 2 * y\n",
    "    # Still have no idea what this step does\n",
    "    # ys = tf.reduce_sum(y)\n",
    "\n",
    "# calculate gradiaent relative to x0 and x1.\n",
    "# what change in x0 causese y to change in certain amount?\n",
    "grad = tape.gradient(ys, {'x0': x0, 'x1': x1})\n",
    "\n",
    "print('dy/dx0', grad['x0'].numpy())\n",
    "print('dy/dx1', grad['x1'].numpy())"
   ],
   "metadata": {
    "collapsed": false,
    "pycharm": {
     "name": "#%%\n"
    }
   }
  },
  {
   "cell_type": "code",
   "execution_count": 29,
   "outputs": [
    {
     "name": "stdout",
     "output_type": "stream",
     "text": [
      "tf.Tensor(1.0, shape=(), dtype=float32)\n",
      "None\n"
     ]
    }
   ],
   "source": [
    "# control flow\n",
    "\n",
    "x = tf.constant(1.0)\n",
    "\n",
    "v0 = tf.Variable(2.0)\n",
    "v1 = tf.Variable(2.0)\n",
    "\n",
    "# persistant = True ensures all operations to be recorded.\n",
    "with tf.GradientTape(persistent=True) as tape:\n",
    "    tape.watch(x)\n",
    "    if x > 0.0:\n",
    "        result = v0\n",
    "    else:\n",
    "        result = v1**2\n",
    "\n",
    "dv0, dv1 = tape.gradient(result, [v0,v1])\n",
    "\n",
    "print(dv0)\n",
    "print(dv1)\n",
    "# gradient only connects to the variable that was used before."
   ],
   "metadata": {
    "collapsed": false,
    "pycharm": {
     "name": "#%%\n"
    }
   }
  },
  {
   "cell_type": "code",
   "execution_count": 50,
   "outputs": [
    {
     "name": "stdout",
     "output_type": "stream",
     "text": [
      "None\n"
     ]
    }
   ],
   "source": [
    "# When Getting a gradient of None, Check these:\n",
    "\n",
    "x = tf.Variable(2.0)\n",
    "y = tf.Variable(3.0)\n",
    "\n",
    "with tf.GradientTape() as tape:\n",
    "    z = y * y\n",
    "\n",
    "print(tape.gradient(z,x))\n",
    "\n",
    "# When target is not connected, will get a gradient of None."
   ],
   "metadata": {
    "collapsed": false,
    "pycharm": {
     "name": "#%%\n"
    }
   }
  },
  {
   "cell_type": "code",
   "execution_count": 39,
   "outputs": [
    {
     "name": "stdout",
     "output_type": "stream",
     "text": [
      "ResourceVariable : tf.Tensor(1.0, shape=(), dtype=float32)\n",
      "ResourceVariable : tf.Tensor(1.0, shape=(), dtype=float32)\n",
      "ResourceVariable : tf.Tensor(1.0, shape=(), dtype=float32)\n"
     ]
    }
   ],
   "source": [
    "# When replaced a variable with a tensor\n",
    "\n",
    "x = tf.Variable(2.0)\n",
    "\n",
    "for epoch in range(3):\n",
    "    with tf.GradientTape() as tape:\n",
    "        y = x + 1\n",
    "\n",
    "    print(type(x).__name__, \":\", tape.gradient(y,x))\n",
    "\n",
    "    # this will cause error\n",
    "    # x = x + 1\n",
    "\n",
    "    # correct way to implement\n",
    "    x.assign_add(1)"
   ],
   "metadata": {
    "collapsed": false,
    "pycharm": {
     "name": "#%%\n"
    }
   }
  },
  {
   "cell_type": "code",
   "execution_count": 42,
   "outputs": [
    {
     "name": "stdout",
     "output_type": "stream",
     "text": [
      "tf.Tensor(\n",
      "[[0.5 1. ]\n",
      " [1.5 2. ]], shape=(2, 2), dtype=float32)\n"
     ]
    }
   ],
   "source": [
    "# calculation outside tensorflow will cause an error\n",
    "\n",
    "x = tf.Variable([[1.0, 2.0],[3.0, 4.0]], dtype=tf.float32)\n",
    "\n",
    "with tf.GradientTape() as tape:\n",
    "    x2 = x**2\n",
    "\n",
    "    # this step is calculated with numpy\n",
    "    # y = np.mean(x2, axis=0)\n",
    "\n",
    "    # when calculated with tensorflow, it will work fine\n",
    "    y = tf.reduce_mean(x2, axis=0)\n",
    "\n",
    "\n",
    "    y = tf.reduce_mean(y, axis=0)\n",
    "\n",
    "print(tape.gradient(y,x))"
   ],
   "metadata": {
    "collapsed": false,
    "pycharm": {
     "name": "#%%\n"
    }
   }
  },
  {
   "cell_type": "code",
   "execution_count": 43,
   "outputs": [
    {
     "name": "stdout",
     "output_type": "stream",
     "text": [
      "WARNING:tensorflow:The dtype of the watched tensor must be floating (e.g. tf.float32), got tf.int32\n",
      "WARNING:tensorflow:The dtype of the target tensor must be floating (e.g. tf.float32) when calling GradientTape.gradient, got tf.int32\n",
      "WARNING:tensorflow:The dtype of the source tensor must be floating (e.g. tf.float32) when calling GradientTape.gradient, got tf.int32\n",
      "None\n"
     ]
    }
   ],
   "source": [
    "# Taking gradients with integer or string\n",
    "# it is obvious that taking gradient with string is impossible,\n",
    "# but integer also makes it impossible.\n",
    "\n",
    "x = tf.constant(10)\n",
    "\n",
    "with tf.GradientTape() as tape:\n",
    "    tape.watch(x)\n",
    "    y = x * x\n",
    "\n",
    "print(tape.gradient(y,x))"
   ],
   "metadata": {
    "collapsed": false,
    "pycharm": {
     "name": "#%%\n"
    }
   }
  },
  {
   "cell_type": "code",
   "execution_count": 51,
   "outputs": [
    {
     "name": "stdout",
     "output_type": "stream",
     "text": [
      "tf.Tensor(6.0, shape=(), dtype=float32)\n"
     ]
    }
   ],
   "source": [
    "# taking gradients through a stateful object\n",
    "\n",
    "# tf.tensor is immutable. can't change once it's created\n",
    "# it has a 'value' but no 'state'\n",
    "\n",
    "# tf.Variable has internal state.\n",
    "\n",
    "x0 = tf.Variable(3.0)\n",
    "x1 = tf.Variable(0.0)\n",
    "\n",
    "with tf.GradientTape() as tape:\n",
    "    # x1.assign_add(x0)\n",
    "    y = (x1 + x0)**2\n",
    "\n",
    "print(tape.gradient(y,x0))"
   ],
   "metadata": {
    "collapsed": false,
    "pycharm": {
     "name": "#%%\n"
    }
   }
  },
  {
   "cell_type": "code",
   "execution_count": 53,
   "outputs": [
    {
     "name": "stdout",
     "output_type": "stream",
     "text": [
      "LookupError: gradient registry has no entry for: AdjustContrastv2\n"
     ]
    }
   ],
   "source": [
    "# non - differentiable VS no gradient registered?\n",
    "\n",
    "image = tf.Variable([[[0.5,0.0,0.0]]])\n",
    "delta = tf.Variable(0.1)\n",
    "\n",
    "with tf.GradientTape() as tape:\n",
    "    new_image = tf.image.adjust_contrast(image,delta)\n",
    "\n",
    "try:\n",
    "    print(tape.gradient(new_image,[image,delta]))\n",
    "    assert False\n",
    "except LookupError as e:\n",
    "    print(f'{type(e).__name__}: {e}')"
   ],
   "metadata": {
    "collapsed": false,
    "pycharm": {
     "name": "#%%\n"
    }
   }
  },
  {
   "cell_type": "code",
   "execution_count": 4,
   "outputs": [
    {
     "name": "stdout",
     "output_type": "stream",
     "text": [
      "tf.Tensor([0. 0.], shape=(2,), dtype=float32)\n"
     ]
    }
   ],
   "source": [
    "#using zeros instead of None\n",
    "\n",
    "x = tf.Variable([2.0, 2.0])\n",
    "y = tf.Variable(3.0)\n",
    "\n",
    "with tf.GradientTape() as tape:\n",
    "    z = y**2\n",
    "\n",
    "print(tape.gradient(z,x,unconnected_gradients=tf.UnconnectedGradients.ZERO))"
   ],
   "metadata": {
    "collapsed": false,
    "pycharm": {
     "name": "#%%\n"
    }
   }
  }
 ],
 "metadata": {
  "kernelspec": {
   "display_name": "Python 3",
   "language": "python",
   "name": "python3"
  },
  "language_info": {
   "codemirror_mode": {
    "name": "ipython",
    "version": 2
   },
   "file_extension": ".py",
   "mimetype": "text/x-python",
   "name": "python",
   "nbconvert_exporter": "python",
   "pygments_lexer": "ipython2",
   "version": "2.7.6"
  }
 },
 "nbformat": 4,
 "nbformat_minor": 0
}