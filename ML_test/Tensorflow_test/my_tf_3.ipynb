{
 "cells": [
  {
   "cell_type": "code",
   "execution_count": 1,
   "metadata": {
    "collapsed": true
   },
   "outputs": [],
   "source": [
    "import tensorflow as tf\n",
    "import numpy as np\n",
    "import matplotlib.pyplot as plt"
   ]
  },
  {
   "cell_type": "code",
   "execution_count": 2,
   "outputs": [
    {
     "name": "stdout",
     "output_type": "stream",
     "text": [
      "tf.Tensor(6.0, shape=(), dtype=float32)\n"
     ]
    }
   ],
   "source": [
    "# Automatic Differentation and Gradients\n",
    "\n",
    "x = tf.Variable(3.0)\n",
    "\n",
    "with tf.GradientTape() as tape:\n",
    "    y = x**2\n",
    "\n",
    "    dy_dx = tape.gradient(y,x)\n",
    "    dy_dx.numpy()\n",
    "\n",
    "print(dy_dx)"
   ],
   "metadata": {
    "collapsed": false,
    "pycharm": {
     "name": "#%%\n"
    }
   }
  },
  {
   "cell_type": "code",
   "execution_count": 6,
   "outputs": [
    {
     "name": "stdout",
     "output_type": "stream",
     "text": [
      "[[ 0.42177057  1.0352646 ]\n",
      " [-2.2723117   0.27003923]\n",
      " [ 0.6620311  -1.3860588 ]]\n",
      "[0. 0.]\n",
      "(3, 2)\n",
      "[[ 0.42177057  1.0352646 ]\n",
      " [-2.2723117   0.27003923]\n",
      " [ 0.6620311  -1.3860588 ]]\n",
      "(3, 2)\n",
      "[[-2.1367595 -2.5828335]\n",
      " [-4.273519  -5.165667 ]\n",
      " [-6.4102783 -7.748501 ]]\n"
     ]
    }
   ],
   "source": [
    "w = tf.Variable(tf.random.normal((3,2), name='w'))\n",
    "b = tf.Variable(tf.zeros(2, dtype=tf.float32), name='b')\n",
    "x = [[1.0, 2.0, 3.0]]\n",
    "\n",
    "print(w.numpy())\n",
    "print(b.numpy())\n",
    "\n",
    "with tf.GradientTape(persistent=True) as tape:\n",
    "    y = x @ w + b\n",
    "    loss = tf.reduce_mean(y**2)\n",
    "\n",
    "[dl_dw, dl_db] = tape.gradient(loss, [w,b])\n",
    "\n",
    "print(w.shape)\n",
    "print(w.numpy())\n",
    "print(dl_dw.shape)\n",
    "print(dl_dw.numpy())\n"
   ],
   "metadata": {
    "collapsed": false,
    "pycharm": {
     "name": "#%%\n"
    }
   }
  }
 ],
 "metadata": {
  "kernelspec": {
   "display_name": "Python 3",
   "language": "python",
   "name": "python3"
  },
  "language_info": {
   "codemirror_mode": {
    "name": "ipython",
    "version": 2
   },
   "file_extension": ".py",
   "mimetype": "text/x-python",
   "name": "python",
   "nbconvert_exporter": "python",
   "pygments_lexer": "ipython2",
   "version": "2.7.6"
  }
 },
 "nbformat": 4,
 "nbformat_minor": 0
}