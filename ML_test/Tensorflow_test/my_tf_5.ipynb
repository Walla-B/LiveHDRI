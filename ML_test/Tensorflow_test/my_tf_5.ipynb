{
 "cells": [
  {
   "cell_type": "code",
   "execution_count": 2,
   "metadata": {
    "collapsed": true
   },
   "outputs": [],
   "source": [
    "import tensorflow as tf\n",
    "from datetime import datetime"
   ]
  },
  {
   "cell_type": "code",
   "execution_count": null,
   "outputs": [],
   "source": [
    "# Models, layers and modules\n",
    "# learning how to define, save, restore a model\n",
    "\n",
    "# What is a model?\n",
    "# function that computes something in tensors (a forward pass)\n",
    "# Some variable that can be updated"
   ],
   "metadata": {
    "collapsed": false,
    "pycharm": {
     "name": "#%%\n"
    }
   }
  },
  {
   "cell_type": "code",
   "execution_count": 5,
   "outputs": [
    {
     "name": "stdout",
     "output_type": "stream",
     "text": [
      "Trainable variables:  (<tf.Variable 'train_me:0' shape=() dtype=float32, numpy=5.0>,)\n",
      "all variables:  (<tf.Variable 'train_me:0' shape=() dtype=float32, numpy=5.0>, <tf.Variable 'do_not_train_me:0' shape=() dtype=float32, numpy=5.0>)\n"
     ]
    }
   ],
   "source": [
    "# Defining models and layers in tensorflow\n",
    "# in tensorflow, most high-level implementations are built on tf.Module class\n",
    "\n",
    "class SimpleModule(tf.Module):\n",
    "  def __init__(self, name=None):\n",
    "    super().__init__(name=name)\n",
    "    self.a_variable = tf.Variable(5.0, name=\"train_me\")\n",
    "    self.non_trainable_variable = tf.Variable(5.0, trainable=False, name=\"do_not_train_me\")\n",
    "  def __call__(self, x):\n",
    "    return self.a_variable * x + self.non_trainable_variable\n",
    "\n",
    "simple_module = SimpleModule(name=\"simple\")\n",
    "\n",
    "simple_module(tf.constant(5.0))\n",
    "\n",
    "print(\"Trainable variables: \" , simple_module.trainable_variables)\n",
    "print(\"all variables: \", simple_module.variables)"
   ],
   "metadata": {
    "collapsed": false,
    "pycharm": {
     "name": "#%%\n"
    }
   }
  },
  {
   "cell_type": "code",
   "execution_count": 11,
   "outputs": [
    {
     "name": "stdout",
     "output_type": "stream",
     "text": [
      "Model result :  tf.Tensor([[0.        0.5357013]], shape=(1, 2), dtype=float32)\n",
      "Submodules :  (<__main__.Dense object at 0x000001AAF36F84C8>, <__main__.Dense object at 0x000001AAF36F8148>)\n",
      "<tf.Variable 'Variable:0' shape=(3,) dtype=float32, numpy=array([0., 0., 0.], dtype=float32)> \n",
      "\n",
      "<tf.Variable 'w:0' shape=(3, 3) dtype=float32, numpy=\n",
      "array([[-0.29807675, -0.23696312,  0.4931119 ],\n",
      "       [-0.1464643 , -0.260403  , -1.0790645 ],\n",
      "       [-0.35388803,  0.7964112 , -0.6294454 ]], dtype=float32)> \n",
      "\n",
      "<tf.Variable 'Variable:0' shape=(2,) dtype=float32, numpy=array([0., 0.], dtype=float32)> \n",
      "\n",
      "<tf.Variable 'w:0' shape=(3, 2) dtype=float32, numpy=\n",
      "array([[ 2.6307747 ,  1.3845483 ],\n",
      "       [-0.50820696,  0.89568645],\n",
      "       [ 0.5427004 , -2.25171   ]], dtype=float32)> \n",
      "\n"
     ]
    }
   ],
   "source": [
    "# two-layer linear layer model made out of modules\n",
    "\n",
    "# model with two dense layers\n",
    "\n",
    "\n",
    "# creates random weight and zero biases when initialized when initialized.\n",
    "# weights and biases are trainable variables.\n",
    "\n",
    "class Dense(tf.Module):\n",
    "    def __init__(self, in_features, out_features, name=None):\n",
    "        super().__init__(name=name)\n",
    "        self.w = tf.Variable(\n",
    "            tf.random.normal([in_features, out_features]), name='w'\n",
    "        )\n",
    "        self.b = tf.Variable(tf.zeros([out_features], name='b'))\n",
    "    def __call__ (self, x):\n",
    "        y = tf.matmul(x, self.w) + self.b\n",
    "        return tf.nn.relu(y)\n",
    "\n",
    "# Module containing two dense layers.\n",
    "# when called, this module will pass two variables through two dense layers\n",
    "# and return a result.\n",
    "\n",
    "class SequentialModule(tf.Module):\n",
    "    def __init__(self, name=None):\n",
    "        super().__init__(name=name)\n",
    "\n",
    "        self.dense_1 = Dense(in_features=3, out_features=3)\n",
    "        self.dense_2 = Dense(in_features=3, out_features=2)\n",
    "\n",
    "    def __call__(self, x):\n",
    "        x = self.dense_1(x)\n",
    "        return self.dense_2(x)\n",
    "\n",
    "my_model = SequentialModule(name = \"the_model\")\n",
    "\n",
    "print(\"Model result : \", my_model(tf.constant([[2.0, 2.0, 2.0]])))\n",
    "\n",
    "print(\"Submodules : \", my_model.submodules)\n",
    "\n",
    "\n",
    "for var in my_model.variables:\n",
    "    print(var, \"\\n\")\n"
   ],
   "metadata": {
    "collapsed": false,
    "pycharm": {
     "name": "#%%\n"
    }
   }
  },
  {
   "cell_type": "code",
   "execution_count": 13,
   "outputs": [
    {
     "name": "stdout",
     "output_type": "stream",
     "text": [
      "Module result : tf.Tensor([[0.       3.471935]], shape=(1, 2), dtype=float32)\n"
     ]
    }
   ],
   "source": [
    "# Waiting to create variables\n",
    "# with deferring variable creation to first moduel call,\n",
    "# we don't have to pre-specify variable dimension.\n",
    "\n",
    "# this is why we need to specify only the output dimesion in keras.Dense layers\n",
    "\n",
    "class FlexibleDenseModule(tf.Module):\n",
    "    def __init__(self, out_features, name=None):\n",
    "        super().__init__(name=name)\n",
    "        self.is_built = False\n",
    "        self.out_features = out_features\n",
    "\n",
    "    def __call__(self, x):\n",
    "        if not self.is_built:\n",
    "            self.w = tf.Variable(\n",
    "                tf.random.normal([x.shape[-1], self.out_features]), name='w'\n",
    "            )\n",
    "            self.b = tf.Variable(tf.zeros([self.out_features]), name = 'b')\n",
    "            self.is_built = True\n",
    "        y = tf.matmul(x, self.w) + self.b\n",
    "        return tf.nn.relu(y)\n",
    "\n",
    "class MySequentialModule(tf.Module):\n",
    "    def __init__(self, name=None):\n",
    "        super().__init__(name=name)\n",
    "\n",
    "        self.dense_1 = FlexibleDenseModule(out_features=3)\n",
    "        self.dense_2 = FlexibleDenseModule(out_features=2)\n",
    "\n",
    "    def __call__(self, x):\n",
    "        x = self.dense_1(x)\n",
    "        return self.dense_2(x)\n",
    "\n",
    "\n",
    "my_model = MySequentialModule(name = \"the_model\")\n",
    "print(\"Module result :\", my_model(tf.constant([[2.0,2.0,2.0]])))"
   ],
   "metadata": {
    "collapsed": false,
    "pycharm": {
     "name": "#%%\n"
    }
   }
  },
  {
   "cell_type": "code",
   "execution_count": 15,
   "outputs": [
    {
     "data": {
      "text/plain": "[('_CHECKPOINTABLE_OBJECT_GRAPH', []),\n ('model/dense_1/b/.ATTRIBUTES/VARIABLE_VALUE', [3]),\n ('model/dense_1/w/.ATTRIBUTES/VARIABLE_VALUE', [3, 3]),\n ('model/dense_2/b/.ATTRIBUTES/VARIABLE_VALUE', [2]),\n ('model/dense_2/w/.ATTRIBUTES/VARIABLE_VALUE', [3, 2])]"
     },
     "execution_count": 15,
     "metadata": {},
     "output_type": "execute_result"
    }
   ],
   "source": [
    "# saving weights with Checkpoints / SavedModel\n",
    "\n",
    "# Checkpoints are only weights in the model\n",
    "# this will create file in current directory\n",
    "\n",
    "chkp_path = \"my_checkpoint\"\n",
    "checkpoint = tf.train.Checkpoint(model = my_model)\n",
    "checkpoint.write(chkp_path)\n",
    "\n",
    "# in this directory,\n",
    "# my_checkpoint.data-00000-of-000000 and\n",
    "# my_checkpoint.index\n",
    "# files are created.\n",
    "\n",
    "# to look inside a checkpoint\n",
    "tf.train.list_variables(chkp_path)"
   ],
   "metadata": {
    "collapsed": false,
    "pycharm": {
     "name": "#%%\n"
    }
   }
  },
  {
   "cell_type": "code",
   "execution_count": 16,
   "outputs": [
    {
     "data": {
      "text/plain": "<tf.Tensor: shape=(1, 2), dtype=float32, numpy=array([[0.      , 3.471935]], dtype=float32)>"
     },
     "execution_count": 16,
     "metadata": {},
     "output_type": "execute_result"
    }
   ],
   "source": [
    "# you can load model with checkpoint\n",
    "\n",
    "new_model = MySequentialModule()\n",
    "new_checkpoint = tf.train.Checkpoint(model=new_model)\n",
    "new_checkpoint.restore(\"my_checkpoint\")\n",
    "\n",
    "new_model(tf.constant([[2.0,2.0,2.0]]))"
   ],
   "metadata": {
    "collapsed": false,
    "pycharm": {
     "name": "#%%\n"
    }
   }
  }
 ],
 "metadata": {
  "kernelspec": {
   "display_name": "Python 3",
   "language": "python",
   "name": "python3"
  },
  "language_info": {
   "codemirror_mode": {
    "name": "ipython",
    "version": 2
   },
   "file_extension": ".py",
   "mimetype": "text/x-python",
   "name": "python",
   "nbconvert_exporter": "python",
   "pygments_lexer": "ipython2",
   "version": "2.7.6"
  }
 },
 "nbformat": 4,
 "nbformat_minor": 0
}