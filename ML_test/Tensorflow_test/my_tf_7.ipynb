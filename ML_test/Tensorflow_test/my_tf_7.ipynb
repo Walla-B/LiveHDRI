{
 "cells": [
  {
   "cell_type": "code",
   "execution_count": 1,
   "metadata": {
    "collapsed": true
   },
   "outputs": [],
   "source": [
    "import tensorflow as tf\n",
    "# Sequentail model in keras"
   ]
  },
  {
   "cell_type": "code",
   "execution_count": 2,
   "outputs": [],
   "source": [
    "model = tf.keras.Sequential(\n",
    "    [\n",
    "        tf.keras.layers.Dense(2, activation='relu', name='layer1'),\n",
    "        tf.keras.layers.Dense(2, activation='relu', name='layer2'),\n",
    "        tf.keras.layers.Dense(4, name='layer3')\n",
    "    ]\n",
    ")\n",
    "\n",
    "x = tf.ones((3,3))\n",
    "y = model(x)"
   ],
   "metadata": {
    "collapsed": false,
    "pycharm": {
     "name": "#%%\n"
    }
   }
  },
  {
   "cell_type": "code",
   "execution_count": 3,
   "outputs": [],
   "source": [
    "# Sequential model above is same as following:\n",
    "\n",
    "layer1 = tf.keras.layers.Dense(2, activation='relu', name='layer1')\n",
    "layer2 = tf.keras.layers.Dense(3, activation='relu', name='layer2')\n",
    "layer3 = tf.keras.layers.Dense(4, name='layer3')\n",
    "\n",
    "x= tf.ones((3,3))\n",
    "y = layer3(layer2(layer1(x)))"
   ],
   "metadata": {
    "collapsed": false,
    "pycharm": {
     "name": "#%%\n"
    }
   }
  },
  {
   "cell_type": "code",
   "execution_count": 4,
   "outputs": [
    {
     "data": {
      "text/plain": "[<keras.layers.core.dense.Dense at 0x1aa42791f48>,\n <keras.layers.core.dense.Dense at 0x1aa42236688>,\n <keras.layers.core.dense.Dense at 0x1aa427bf708>]"
     },
     "execution_count": 4,
     "metadata": {},
     "output_type": "execute_result"
    }
   ],
   "source": [
    "model.layers"
   ],
   "metadata": {
    "collapsed": false,
    "pycharm": {
     "name": "#%%\n"
    }
   }
  },
  {
   "cell_type": "code",
   "execution_count": 15,
   "outputs": [
    {
     "name": "stdout",
     "output_type": "stream",
     "text": [
      "Model: \"sequential_8\"\n",
      "_________________________________________________________________\n",
      " Layer (type)                Output Shape              Param #   \n",
      "=================================================================\n",
      " dense_22 (Dense)            (3, 2)                    8         \n",
      "                                                                 \n",
      " dense_23 (Dense)            (3, 3)                    9         \n",
      "                                                                 \n",
      " dense_24 (Dense)            (3, 4)                    16        \n",
      "                                                                 \n",
      "=================================================================\n",
      "Total params: 33\n",
      "Trainable params: 33\n",
      "Non-trainable params: 0\n",
      "_________________________________________________________________\n"
     ]
    }
   ],
   "source": [
    "# we can also add layers to existing model with model.add()\n",
    "\n",
    "model_added = tf.keras.Sequential()\n",
    "model_added.add(tf.keras.layers.Dense(2, activation='relu'))\n",
    "model_added.add(tf.keras.layers.Dense(3, activation='relu'))\n",
    "model_added.add(tf.keras.layers.Dense(4))\n",
    "\n",
    "y = model_added(x)\n",
    "\n",
    "model_added.summary()"
   ],
   "metadata": {
    "collapsed": false,
    "pycharm": {
     "name": "#%%\n"
    }
   }
  },
  {
   "cell_type": "code",
   "execution_count": 10,
   "outputs": [
    {
     "name": "stdout",
     "output_type": "stream",
     "text": [
      "Model: \"sequential\"\n",
      "_________________________________________________________________\n",
      " Layer (type)                Output Shape              Param #   \n",
      "=================================================================\n",
      " layer1 (Dense)              (3, 2)                    8         \n",
      "                                                                 \n",
      " layer2 (Dense)              (3, 2)                    6         \n",
      "                                                                 \n",
      " layer3 (Dense)              (3, 4)                    12        \n",
      "                                                                 \n",
      "=================================================================\n",
      "Total params: 26\n",
      "Trainable params: 26\n",
      "Non-trainable params: 0\n",
      "_________________________________________________________________\n"
     ]
    }
   ],
   "source": [
    "model_added.pop()\n",
    "\n",
    "model_added.summary()"
   ],
   "metadata": {
    "collapsed": false,
    "pycharm": {
     "name": "#%%\n"
    }
   }
  },
  {
   "cell_type": "code",
   "execution_count": 16,
   "outputs": [
    {
     "name": "stdout",
     "output_type": "stream",
     "text": [
      "Model: \"model_with_name\"\n",
      "_________________________________________________________________\n",
      " Layer (type)                Output Shape              Param #   \n",
      "=================================================================\n",
      " dense_25 (Dense)            (3, 2)                    8         \n",
      "                                                                 \n",
      " dense_26 (Dense)            (3, 3)                    9         \n",
      "                                                                 \n",
      " dense_27 (Dense)            (3, 4)                    16        \n",
      "                                                                 \n",
      "=================================================================\n",
      "Total params: 33\n",
      "Trainable params: 33\n",
      "Non-trainable params: 0\n",
      "_________________________________________________________________\n"
     ]
    }
   ],
   "source": [
    "model_withname= tf.keras.Sequential(name = 'model_with_name')\n",
    "model_withname.add(tf.keras.layers.Dense(2, activation='relu'))\n",
    "model_withname.add(tf.keras.layers.Dense(3, activation='relu'))\n",
    "model_withname.add(tf.keras.layers.Dense(4))\n",
    "\n",
    "y = model_withname(x)\n",
    "\n",
    "model_withname.summary()"
   ],
   "metadata": {
    "collapsed": false,
    "pycharm": {
     "name": "#%%\n"
    }
   }
  },
  {
   "cell_type": "code",
   "execution_count": 18,
   "outputs": [
    {
     "data": {
      "text/plain": "[]"
     },
     "execution_count": 18,
     "metadata": {},
     "output_type": "execute_result"
    }
   ],
   "source": [
    "test_layer = tf.keras.layers.Dense(3)\n",
    "test_layer.weights\n",
    "\n",
    "# in this state , layer is not 'built', so there is no weights initailized yet."
   ],
   "metadata": {
    "collapsed": false,
    "pycharm": {
     "name": "#%%\n"
    }
   }
  },
  {
   "cell_type": "code",
   "execution_count": 21,
   "outputs": [
    {
     "name": "stdout",
     "output_type": "stream",
     "text": [
      "[[1. 1. 1. 1.]]\n"
     ]
    },
    {
     "data": {
      "text/plain": "[<tf.Variable 'dense_29/kernel:0' shape=(4, 3) dtype=float32, numpy=\n array([[ 0.8825567 , -0.47147426,  0.3693242 ],\n        [-0.8113711 ,  0.25952446,  0.7762258 ],\n        [ 0.894855  ,  0.5434792 ,  0.70342577],\n        [ 0.5102345 , -0.5846616 ,  0.0501191 ]], dtype=float32)>,\n <tf.Variable 'dense_29/bias:0' shape=(3,) dtype=float32, numpy=array([0., 0., 0.], dtype=float32)>]"
     },
     "execution_count": 21,
     "metadata": {},
     "output_type": "execute_result"
    }
   ],
   "source": [
    "x = tf.ones((1,4))\n",
    "print(x.numpy())\n",
    "\n",
    "# layer is 'built' now.\n",
    "y = test_layer(x)\n",
    "test_layer.weights"
   ],
   "metadata": {
    "collapsed": false,
    "pycharm": {
     "name": "#%%\n"
    }
   }
  },
  {
   "cell_type": "code",
   "execution_count": 24,
   "outputs": [
    {
     "name": "stdout",
     "output_type": "stream",
     "text": [
      "Model: \"sequential_11\"\n",
      "_________________________________________________________________\n",
      " Layer (type)                Output Shape              Param #   \n",
      "=================================================================\n",
      " dense_31 (Dense)            (None, 2)                 10        \n",
      "                                                                 \n",
      "=================================================================\n",
      "Total params: 10\n",
      "Trainable params: 10\n",
      "Non-trainable params: 0\n",
      "_________________________________________________________________\n"
     ]
    }
   ],
   "source": [
    "# same principal applies to the models. model is just a concatentation of multiple layers,\n",
    "# so models that isn't 'built' will not have any weights or biases.\n",
    "\n",
    "model_incremental = tf.keras.Sequential()\n",
    "\n",
    "# by declaring input shape with tf.keras.Input(), we can see model summary without 'building'\n",
    "# input is not a 'layer', so it is not displayed in model.summary()\n",
    "\n",
    "model_incremental.add(tf.keras.Input(shape = (4, )))\n",
    "model_incremental.add(tf.keras.layers.Dense(2, activation='relu'))\n",
    "\n",
    "\n",
    "model_incremental.summary()"
   ],
   "metadata": {
    "collapsed": false,
    "pycharm": {
     "name": "#%%\n"
    }
   }
  },
  {
   "cell_type": "code",
   "execution_count": 25,
   "outputs": [
    {
     "name": "stdout",
     "output_type": "stream",
     "text": [
      "Model: \"sequential_12\"\n",
      "_________________________________________________________________\n",
      " Layer (type)                Output Shape              Param #   \n",
      "=================================================================\n",
      " dense_32 (Dense)            (None, 2)                 10        \n",
      "                                                                 \n",
      "=================================================================\n",
      "Total params: 10\n",
      "Trainable params: 10\n",
      "Non-trainable params: 0\n",
      "_________________________________________________________________\n"
     ]
    }
   ],
   "source": [
    "# simple alternative option is to declare input_shape in first layer as a variable.\n",
    "\n",
    "model_2 = tf.keras.Sequential()\n",
    "model_2.add(tf.keras.layers.Dense(2, activation='relu', input_shape=(4,)))\n",
    "\n",
    "model_2.summary()"
   ],
   "metadata": {
    "collapsed": false,
    "pycharm": {
     "name": "#%%\n"
    }
   }
  },
  {
   "cell_type": "code",
   "execution_count": 29,
   "outputs": [
    {
     "name": "stdout",
     "output_type": "stream",
     "text": [
      "Model: \"sequential_16\"\n",
      "_________________________________________________________________\n",
      " Layer (type)                Output Shape              Param #   \n",
      "=================================================================\n",
      " conv2d_10 (Conv2D)          (None, 126, 126, 32)      2432      \n",
      "                                                                 \n",
      " conv2d_11 (Conv2D)          (None, 124, 124, 32)      9248      \n",
      "                                                                 \n",
      " max_pooling2d_5 (MaxPooling  (None, 41, 41, 32)       0         \n",
      " 2D)                                                             \n",
      "                                                                 \n",
      "=================================================================\n",
      "Total params: 11,680\n",
      "Trainable params: 11,680\n",
      "Non-trainable params: 0\n",
      "_________________________________________________________________\n",
      "\n",
      "\n",
      "Model: \"sequential_16\"\n",
      "_________________________________________________________________\n",
      " Layer (type)                Output Shape              Param #   \n",
      "=================================================================\n",
      " conv2d_10 (Conv2D)          (None, 126, 126, 32)      2432      \n",
      "                                                                 \n",
      " conv2d_11 (Conv2D)          (None, 124, 124, 32)      9248      \n",
      "                                                                 \n",
      " max_pooling2d_5 (MaxPooling  (None, 41, 41, 32)       0         \n",
      " 2D)                                                             \n",
      "                                                                 \n",
      " conv2d_12 (Conv2D)          (None, 39, 39, 32)        9248      \n",
      "                                                                 \n",
      " conv2d_13 (Conv2D)          (None, 37, 37, 32)        9248      \n",
      "                                                                 \n",
      " max_pooling2d_6 (MaxPooling  (None, 12, 12, 32)       0         \n",
      " 2D)                                                             \n",
      "                                                                 \n",
      " conv2d_14 (Conv2D)          (None, 10, 10, 32)        9248      \n",
      "                                                                 \n",
      " conv2d_15 (Conv2D)          (None, 8, 8, 32)          9248      \n",
      "                                                                 \n",
      " max_pooling2d_7 (MaxPooling  (None, 4, 4, 32)         0         \n",
      " 2D)                                                             \n",
      "                                                                 \n",
      "=================================================================\n",
      "Total params: 48,672\n",
      "Trainable params: 48,672\n",
      "Non-trainable params: 0\n",
      "_________________________________________________________________\n",
      "\n",
      "\n",
      "Model: \"sequential_16\"\n",
      "_________________________________________________________________\n",
      " Layer (type)                Output Shape              Param #   \n",
      "=================================================================\n",
      " conv2d_10 (Conv2D)          (None, 126, 126, 32)      2432      \n",
      "                                                                 \n",
      " conv2d_11 (Conv2D)          (None, 124, 124, 32)      9248      \n",
      "                                                                 \n",
      " max_pooling2d_5 (MaxPooling  (None, 41, 41, 32)       0         \n",
      " 2D)                                                             \n",
      "                                                                 \n",
      " conv2d_12 (Conv2D)          (None, 39, 39, 32)        9248      \n",
      "                                                                 \n",
      " conv2d_13 (Conv2D)          (None, 37, 37, 32)        9248      \n",
      "                                                                 \n",
      " max_pooling2d_6 (MaxPooling  (None, 12, 12, 32)       0         \n",
      " 2D)                                                             \n",
      "                                                                 \n",
      " conv2d_14 (Conv2D)          (None, 10, 10, 32)        9248      \n",
      "                                                                 \n",
      " conv2d_15 (Conv2D)          (None, 8, 8, 32)          9248      \n",
      "                                                                 \n",
      " max_pooling2d_7 (MaxPooling  (None, 4, 4, 32)         0         \n",
      " 2D)                                                             \n",
      "                                                                 \n",
      " global_max_pooling2d (Globa  (None, 32)               0         \n",
      " lMaxPooling2D)                                                  \n",
      "                                                                 \n",
      " dense_33 (Dense)            (None, 10)                330       \n",
      "                                                                 \n",
      "=================================================================\n",
      "Total params: 49,002\n",
      "Trainable params: 49,002\n",
      "Non-trainable params: 0\n",
      "_________________________________________________________________\n"
     ]
    }
   ],
   "source": [
    "# Sequential CNN model example\n",
    "\n",
    "model_cnn = tf.keras.Sequential()\n",
    "model_cnn.add(tf.keras.Input(shape=(255,255,3)))\n",
    "model_cnn.add(tf.keras.layers.Conv2D(32, 5, strides=2, activation='relu'))\n",
    "model_cnn.add(tf.keras.layers.Conv2D(32, 3, activation='relu'))\n",
    "model_cnn.add(tf.keras.layers.MaxPool2D(3))\n",
    "\n",
    "model_cnn.summary()\n",
    "\n",
    "model_cnn.add(tf.keras.layers.Conv2D(32, 3, activation='relu'))\n",
    "model_cnn.add(tf.keras.layers.Conv2D(32, 3, activation='relu'))\n",
    "model_cnn.add(tf.keras.layers.MaxPool2D(3))\n",
    "model_cnn.add(tf.keras.layers.Conv2D(32, 3, activation='relu'))\n",
    "model_cnn.add(tf.keras.layers.Conv2D(32, 3, activation='relu'))\n",
    "model_cnn.add(tf.keras.layers.MaxPool2D(2))\n",
    "\n",
    "print(\"\\n\")\n",
    "model_cnn.summary()\n",
    "\n",
    "model_cnn.add(tf.keras.layers.GlobalMaxPool2D())\n",
    "model_cnn.add(tf.keras.layers.Dense(10))\n",
    "\n",
    "print(\"\\n\")\n",
    "model_cnn.summary()"
   ],
   "metadata": {
    "collapsed": false,
    "pycharm": {
     "name": "#%%\n"
    }
   }
  },
  {
   "cell_type": "code",
   "execution_count": 38,
   "outputs": [
    {
     "name": "stdout",
     "output_type": "stream",
     "text": [
      "Model: \"sequential_21\"\n",
      "_________________________________________________________________\n",
      " Layer (type)                Output Shape              Param #   \n",
      "=================================================================\n",
      " conv2d_28 (Conv2D)          (None, 123, 123, 32)      2432      \n",
      "                                                                 \n",
      " conv2d_29 (Conv2D)          (None, 121, 121, 32)      9248      \n",
      "                                                                 \n",
      " conv2d_30 (Conv2D)          (None, 119, 119, 32)      9248      \n",
      "                                                                 \n",
      "=================================================================\n",
      "Total params: 20,928\n",
      "Trainable params: 20,928\n",
      "Non-trainable params: 0\n",
      "_________________________________________________________________\n"
     ]
    }
   ],
   "source": [
    "initial_model = tf.keras.Sequential(\n",
    "    [\n",
    "        tf.keras.Input(shape=(250, 250, 3)),\n",
    "        tf.keras.layers.Conv2D(32, 5, strides=2, activation='relu'),\n",
    "        tf.keras.layers.Conv2D(32,3, activation='relu'),\n",
    "        tf.keras.layers.Conv2D(32,3, activation='relu')\n",
    "    ]\n",
    ")\n",
    "\n",
    "feature_extractor = tf.keras.Model(\n",
    "    inputs = initial_model.inputs,\n",
    "    outputs = [layer.output for layer in initial_model.layers]\n",
    ")\n",
    "\n",
    "x = tf.ones((1,250,250,3))\n",
    "\n",
    "features = feature_extractor(x)\n",
    "\n",
    "initial_model.summary()"
   ],
   "metadata": {
    "collapsed": false,
    "pycharm": {
     "name": "#%%\n"
    }
   }
  },
  {
   "cell_type": "code",
   "execution_count": 37,
   "outputs": [
    {
     "name": "stdout",
     "output_type": "stream",
     "text": [
      "Model: \"sequential_20\"\n",
      "_________________________________________________________________\n",
      " Layer (type)                Output Shape              Param #   \n",
      "=================================================================\n",
      " conv2d_25 (Conv2D)          (None, 123, 123, 32)      2432      \n",
      "                                                                 \n",
      " conv2d_26 (Conv2D)          (None, 121, 121, 32)      9248      \n",
      "                                                                 \n",
      " conv2d_27 (Conv2D)          (None, 119, 119, 32)      9248      \n",
      "                                                                 \n",
      "=================================================================\n",
      "Total params: 20,928\n",
      "Trainable params: 9,248\n",
      "Non-trainable params: 11,680\n",
      "_________________________________________________________________\n"
     ]
    }
   ],
   "source": [
    "for layer in initial_model.layers[:-1]:\n",
    "    layer.trainable = False\n",
    "\n",
    "initial_model.summary()"
   ],
   "metadata": {
    "collapsed": false,
    "pycharm": {
     "name": "#%%\n"
    }
   }
  }
 ],
 "metadata": {
  "kernelspec": {
   "display_name": "Python 3",
   "language": "python",
   "name": "python3"
  },
  "language_info": {
   "codemirror_mode": {
    "name": "ipython",
    "version": 2
   },
   "file_extension": ".py",
   "mimetype": "text/x-python",
   "name": "python",
   "nbconvert_exporter": "python",
   "pygments_lexer": "ipython2",
   "version": "2.7.6"
  }
 },
 "nbformat": 4,
 "nbformat_minor": 0
}