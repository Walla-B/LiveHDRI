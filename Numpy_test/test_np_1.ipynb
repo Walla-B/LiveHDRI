{
 "cells": [
  {
   "cell_type": "code",
   "execution_count": 2,
   "outputs": [],
   "source": [
    "from __future__ import print_function\n",
    "import numpy as np\n",
    "\n",
    "import sys\n",
    "from datetime import datetime"
   ],
   "metadata": {
    "collapsed": false,
    "pycharm": {
     "name": "#%%\n"
    }
   }
  },
  {
   "cell_type": "code",
   "execution_count": 3,
   "outputs": [],
   "source": [
    "def pythonsum(n):\n",
    "    a = range(n)\n",
    "    b = range(n)\n",
    "    c = []\n",
    "\n",
    "    for i in range(len(a)):\n",
    "        a[i] = i ** 2\n",
    "        b[i] = i ** 3\n",
    "        c.append(a[i] + b[i])\n",
    "\n",
    "    return c"
   ],
   "metadata": {
    "collapsed": false,
    "pycharm": {
     "name": "#%%\n"
    }
   }
  },
  {
   "cell_type": "code",
   "execution_count": 4,
   "outputs": [],
   "source": [
    "# using numpy\n",
    "\n",
    "def numpysum(n):\n",
    "    a = np.arange(n) ** 2\n",
    "    b = np.arange(n) ** 3\n",
    "    c = a + b\n",
    "\n",
    "    return c"
   ],
   "metadata": {
    "collapsed": false,
    "pycharm": {
     "name": "#%%\n"
    }
   }
  },
  {
   "cell_type": "code",
   "execution_count": 11,
   "outputs": [
    {
     "data": {
      "text/plain": "(3, 2, 5)"
     },
     "execution_count": 11,
     "metadata": {},
     "output_type": "execute_result"
    }
   ],
   "source": [
    "a = np.arange(5)\n",
    "a.dtype\n",
    "\n",
    "b = np.array([[[0,1,2,3,4], [5,6,7,8,9]],\n",
    "              [[0,1,2,3,4], [5,6,7,8,9]],\n",
    "              [[0,1,2,3,4], [5,6,7,8,9]]])\n",
    "b.shape"
   ],
   "metadata": {
    "collapsed": false,
    "pycharm": {
     "name": "#%%\n"
    }
   }
  },
  {
   "cell_type": "code",
   "execution_count": 14,
   "outputs": [
    {
     "name": "stdout",
     "output_type": "stream",
     "text": [
      "[3 4 5 6]\n",
      "[0 2 4 6]\n",
      "[8 7 6 5 4 3 2 1 0]\n"
     ]
    }
   ],
   "source": [
    "c = np.arange(9)\n",
    "print(c[3:7])\n",
    "print(c[:7:2])\n",
    "print(c[::-1])"
   ],
   "metadata": {
    "collapsed": false,
    "pycharm": {
     "name": "#%%\n"
    }
   }
  },
  {
   "cell_type": "code",
   "execution_count": 20,
   "outputs": [
    {
     "data": {
      "text/plain": "array([[[ 0,  1,  2,  3],\n        [ 4,  5,  6,  7],\n        [ 8,  9, 10, 11]],\n\n       [[12, 13, 14, 15],\n        [16, 17, 18, 19],\n        [20, 21, 22, 23]]])"
     },
     "execution_count": 20,
     "metadata": {},
     "output_type": "execute_result"
    }
   ],
   "source": [
    "d = np.arange(24).reshape(2,3,4)\n",
    "\n",
    "d.shape\n",
    "d"
   ],
   "metadata": {
    "collapsed": false,
    "pycharm": {
     "name": "#%%\n"
    }
   }
  },
  {
   "cell_type": "code",
   "execution_count": 22,
   "outputs": [
    {
     "data": {
      "text/plain": "array([ 0,  1,  2,  3,  4,  5,  6,  7,  8,  9, 10, 11, 12, 13, 14, 15, 16,\n       17, 18, 19, 20, 21, 22, 23])"
     },
     "execution_count": 22,
     "metadata": {},
     "output_type": "execute_result"
    }
   ],
   "source": [
    "e = d.ravel()\n",
    "\n",
    "e.shape\n",
    "e"
   ],
   "metadata": {
    "collapsed": false,
    "pycharm": {
     "name": "#%%\n"
    }
   }
  },
  {
   "cell_type": "code",
   "execution_count": 24,
   "outputs": [
    {
     "data": {
      "text/plain": "array([ 0,  1,  2,  3,  4,  5,  6,  7,  8,  9, 10, 11, 12, 13, 14, 15, 16,\n       17, 18, 19, 20, 21, 22, 23])"
     },
     "execution_count": 24,
     "metadata": {},
     "output_type": "execute_result"
    }
   ],
   "source": [
    "f = d.flatten()\n",
    "f"
   ],
   "metadata": {
    "collapsed": false,
    "pycharm": {
     "name": "#%%\n"
    }
   }
  },
  {
   "cell_type": "code",
   "execution_count": 27,
   "outputs": [
    {
     "data": {
      "text/plain": "array([[ 0,  1,  2,  3],\n       [ 4,  5,  6,  7],\n       [ 8,  9, 10, 11],\n       [12, 13, 14, 15],\n       [16, 17, 18, 19],\n       [20, 21, 22, 23]])"
     },
     "execution_count": 27,
     "metadata": {},
     "output_type": "execute_result"
    }
   ],
   "source": [
    "f.shape = (6,4)\n",
    "f\n"
   ],
   "metadata": {
    "collapsed": false,
    "pycharm": {
     "name": "#%%\n"
    }
   }
  },
  {
   "cell_type": "code",
   "execution_count": 3,
   "outputs": [],
   "source": [
    "a1 = np.array([[1,2],[3,4]])\n",
    "a2 = a1.ravel()\n",
    "a3 = a1.flatten()\n",
    "a4 = a1.reshape(-1)"
   ],
   "metadata": {
    "collapsed": false,
    "pycharm": {
     "name": "#%%\n"
    }
   }
  },
  {
   "cell_type": "code",
   "execution_count": 4,
   "outputs": [],
   "source": [
    "a1[0][0] = 99"
   ],
   "metadata": {
    "collapsed": false,
    "pycharm": {
     "name": "#%%\n"
    }
   }
  },
  {
   "cell_type": "code",
   "execution_count": 6,
   "outputs": [
    {
     "name": "stdout",
     "output_type": "stream",
     "text": [
      "[99  2  3  4]\n",
      "[1 2 3 4]\n",
      "[99  2  3  4]\n"
     ]
    }
   ],
   "source": [
    "print(a2)\n",
    "print(a3)\n",
    "print(a4)\n",
    "\n",
    "# flatten() results in deep copy,\n",
    "# whereas ravel() and reshape(-1) result in shallow copy"
   ],
   "metadata": {
    "collapsed": false,
    "pycharm": {
     "name": "#%%\n"
    }
   }
  },
  {
   "cell_type": "code",
   "execution_count": 23,
   "outputs": [
    {
     "name": "stdout",
     "output_type": "stream",
     "text": [
      "[[0 1 2]\n",
      " [3 4 5]\n",
      " [6 7 8]]\n",
      "[[ 0  2  4]\n",
      " [ 6  8 10]\n",
      " [12 14 16]]\n",
      "\n",
      "\n",
      "hstack : \n",
      " [[ 0  1  2  0  2  4]\n",
      " [ 3  4  5  6  8 10]\n",
      " [ 6  7  8 12 14 16]] \n",
      "\n",
      "concatenate, axis 1 : \n",
      " [[ 0  1  2  0  2  4]\n",
      " [ 3  4  5  6  8 10]\n",
      " [ 6  7  8 12 14 16]] \n",
      "\n",
      "vstack : \n",
      " [[ 0  1  2]\n",
      " [ 3  4  5]\n",
      " [ 6  7  8]\n",
      " [ 0  2  4]\n",
      " [ 6  8 10]\n",
      " [12 14 16]] \n",
      "\n",
      "concatenate, axis 0 : \n",
      " [[ 0  1  2]\n",
      " [ 3  4  5]\n",
      " [ 6  7  8]\n",
      " [ 0  2  4]\n",
      " [ 6  8 10]\n",
      " [12 14 16]] \n",
      "\n",
      "dstack : \n",
      " [[[ 0  0]\n",
      "  [ 1  2]\n",
      "  [ 2  4]]\n",
      "\n",
      " [[ 3  6]\n",
      "  [ 4  8]\n",
      "  [ 5 10]]\n",
      "\n",
      " [[ 6 12]\n",
      "  [ 7 14]\n",
      "  [ 8 16]]] \n",
      "\n",
      "column_stack : \n",
      " [[0 0]\n",
      " [1 2]]\n",
      "row_stack : \n",
      " [[0 1]\n",
      " [0 2]] \n",
      "\n"
     ]
    }
   ],
   "source": [
    "# stacking\n",
    "k1 = np.arange(9).reshape(3,3)\n",
    "print(k1)\n",
    "k2 = 2*k1\n",
    "print(k2)\n",
    "\n",
    "print(\"\\n\")\n",
    "\n",
    "# horizontal stacking\n",
    "print(\"hstack : \\n\",np.hstack((k1,k2)),\"\\n\")\n",
    "# same as\n",
    "print(\"concatenate, axis 1 : \\n\", np.concatenate((k1,k2), axis=1), \"\\n\")\n",
    "\n",
    "# vertical stacking\n",
    "\n",
    "print(\"vstack : \\n\", np.vstack((k1,k2)), \"\\n\")\n",
    "# same as\n",
    "print(\"concatenate, axis 0 : \\n\", np.concatenate((k1, k2),axis=0), \"\\n\")\n",
    "\n",
    "\n",
    "# depth stacking\n",
    "print(\"dstack : \\n\", np.dstack((k1,k2)), '\\n')\n",
    "np.dstack((k1,k2)).shape\n",
    "\n",
    "# column stacking\n",
    "oned = np.arange(2)\n",
    "twice_oned = oned * 2\n",
    "\n",
    "print(\"column_stack : \\n\", np.column_stack((oned, twice_oned)))\n",
    "\n",
    "# row stacking\n",
    "\n",
    "print(\"row_stack : \\n\", np.row_stack((oned, twice_oned)), \"\\n\")"
   ],
   "metadata": {
    "collapsed": false,
    "pycharm": {
     "name": "#%%\n"
    }
   }
  },
  {
   "cell_type": "code",
   "execution_count": 32,
   "outputs": [
    {
     "name": "stdout",
     "output_type": "stream",
     "text": [
      "[[0]\n",
      " [3]\n",
      " [6]] \n",
      "\n",
      "[[1]\n",
      " [4]\n",
      " [7]] \n",
      "\n",
      "[[2]\n",
      " [5]\n",
      " [8]] \n",
      "\n",
      "[[0]\n",
      " [3]\n",
      " [6]] \n",
      "\n",
      "[[1]\n",
      " [4]\n",
      " [7]] \n",
      "\n",
      "[[2]\n",
      " [5]\n",
      " [8]] \n",
      "\n"
     ]
    },
    {
     "data": {
      "text/plain": "(3, 3, 1)"
     },
     "execution_count": 32,
     "metadata": {},
     "output_type": "execute_result"
    }
   ],
   "source": [
    "# splitting\n",
    "\n",
    "t1 = np.arange(9).reshape(3,3)\n",
    "\n",
    "t2,t3,t4 = np.hsplit(t1, 3)\n",
    "\n",
    "print(t2, '\\n')\n",
    "print(t3, '\\n')\n",
    "print(t4, '\\n')\n",
    "\n",
    "t5,t6,t7 = np.split(t1, 3, axis=1)\n",
    "\n",
    "print(t5, '\\n')\n",
    "print(t6, '\\n')\n",
    "print(t7, '\\n')\n",
    "\n",
    "# depth-wise splitting\n",
    "\n",
    "t1 = np.arange(27).reshape(3,3,3)\n",
    "\n",
    "t8, t9, t10 = np.dsplit(t1, 3)\n",
    "\n",
    "t8.shape\n"
   ],
   "metadata": {
    "collapsed": false,
    "pycharm": {
     "name": "#%%\n"
    }
   }
  },
  {
   "cell_type": "code",
   "execution_count": 50,
   "outputs": [
    {
     "name": "stdout",
     "output_type": "stream",
     "text": [
      "1\n",
      "2\n",
      "3 \n",
      "\n",
      "size :  12\n",
      "itemsize :  4\n",
      "nbytes :  48\n",
      "[[ 0  1  2  3]\n",
      " [ 4  5  6  7]\n",
      " [ 8  9 10 11]]\n",
      "[[ 0  4  8]\n",
      " [ 1  5  9]\n",
      " [ 2  6 10]\n",
      " [ 3  7 11]]\n",
      "[[ 0  4  8]\n",
      " [ 1  5  9]\n",
      " [ 2  6 10]\n",
      " [ 3  7 11]]\n"
     ]
    }
   ],
   "source": [
    "# ndarray attributes\n",
    "\n",
    "# 1. ndim : gives the number of dimensions\n",
    "h1 = np.arange(12)\n",
    "print(h1.ndim)\n",
    "h1 = h1.reshape(3,4)\n",
    "print(h1.ndim)\n",
    "h1 = h1.reshape(2,2,3)\n",
    "print(h1.ndim, '\\n')\n",
    "\n",
    "# 2. size : gives the number of elements\n",
    "print('size : ',h1.size)\n",
    "\n",
    "# 3. itemsize : gives the number of bytes for each elements\n",
    "print('itemsize : ', h1.itemsize)\n",
    "\n",
    "# 4. nbytes : gives the total bytes of array, same as itemsize * size\n",
    "print('nbytes : ', h1.nbytes)\n",
    "\n",
    "# 5. T : same as ndarray.transpose()\n",
    "h1 = h1.reshape(3,4)\n",
    "\n",
    "print(h1)\n",
    "print(h1.transpose())\n",
    "print(h1.T)"
   ],
   "metadata": {
    "collapsed": false,
    "pycharm": {
     "name": "#%%\n"
    }
   }
  },
  {
   "cell_type": "code",
   "execution_count": 55,
   "outputs": [
    {
     "name": "stdout",
     "output_type": "stream",
     "text": [
      "[[0, 1, 2], [3, 4, 5], [6, 7, 8]]\n",
      "[[0. 1. 2.]\n",
      " [3. 4. 5.]\n",
      " [6. 7. 8.]]\n"
     ]
    }
   ],
   "source": [
    "# converting ndarray to python list\n",
    "\n",
    "l1 = np.arange(9).reshape(3,3)\n",
    "print(l1.tolist())\n",
    "\n",
    "# converting datatypes\n",
    "\n",
    "l2 = l1.astype(np.float32)\n",
    "print(l2)"
   ],
   "metadata": {
    "collapsed": false,
    "pycharm": {
     "name": "#%%\n"
    }
   }
  }
 ],
 "metadata": {
  "kernelspec": {
   "display_name": "Python 3",
   "language": "python",
   "name": "python3"
  },
  "language_info": {
   "codemirror_mode": {
    "name": "ipython",
    "version": 2
   },
   "file_extension": ".py",
   "mimetype": "text/x-python",
   "name": "python",
   "nbconvert_exporter": "python",
   "pygments_lexer": "ipython2",
   "version": "2.7.6"
  }
 },
 "nbformat": 4,
 "nbformat_minor": 0
}