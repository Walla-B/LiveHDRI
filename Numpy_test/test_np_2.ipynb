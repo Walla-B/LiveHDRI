{
 "cells": [
  {
   "cell_type": "code",
   "execution_count": 2,
   "metadata": {
    "collapsed": true,
    "pycharm": {
     "name": "#%%\n"
    }
   },
   "outputs": [],
   "source": [
    "import numpy as np"
   ]
  },
  {
   "cell_type": "code",
   "execution_count": 12,
   "outputs": [
    {
     "name": "stdout",
     "output_type": "stream",
     "text": [
      "[[1. 0.]\n",
      " [0. 1.]]\n",
      "VWAP =  168.2901759687061\n",
      "mean =  168.69636363636366\n",
      "mean2 :  84852664.81818181\n"
     ]
    }
   ],
   "source": [
    "# commonly used functions\n",
    "\n",
    "# identity matrix\n",
    "i2 = np.eye(2)\n",
    "print(i2)\n",
    "\n",
    "# saving result as text\n",
    "np.savetxt(\"eye.txt\", i2)\n",
    "\n",
    "c,v = np.loadtxt('Apple.csv', delimiter=',', usecols=(4,5), unpack=True)\n",
    "vwap = np.average(c, weights=v)\n",
    "\n",
    "print(\"VWAP = \", vwap)\n",
    "print(\"mean = \", np.mean(c))\n",
    "print(\"mean2 : \", np.mean(v))"
   ],
   "metadata": {
    "collapsed": false,
    "pycharm": {
     "name": "#%%\n"
    }
   }
  },
  {
   "cell_type": "code",
   "execution_count": 14,
   "outputs": [
    {
     "name": "stdout",
     "output_type": "stream",
     "text": [
      "highest =  176.65\n",
      "lowest =  152.0\n",
      "Speread high =  13.800000000000011\n",
      "Speread low =  22.900000000000006\n"
     ]
    }
   ],
   "source": [
    "# min max\n",
    "h,l = np.loadtxt('Apple.csv', delimiter=',', usecols=(2,3), unpack=True)\n",
    "\n",
    "print(\"highest = \", np.max(h))\n",
    "print(\"lowest = \", np.min(l))\n",
    "\n",
    "# ptp (peak to peak) : max(array) - min(array)\n",
    "print(\"Speread high = \", np.ptp(h))\n",
    "print(\"Speread low = \", np.ptp(l))"
   ],
   "metadata": {
    "collapsed": false,
    "pycharm": {
     "name": "#%%\n"
    }
   }
  },
  {
   "cell_type": "code",
   "execution_count": 15,
   "outputs": [
    {
     "name": "stdout",
     "output_type": "stream",
     "text": [
      "median =  171.225\n"
     ]
    }
   ],
   "source": [
    "# median\n",
    "# with np.median(), if array length is odd, return median value\n",
    "# else (if array size is even) calculate the average of two values in the middle\n",
    "\n",
    "print(\"median = \", np.median(h))"
   ],
   "metadata": {
    "collapsed": false,
    "pycharm": {
     "name": "#%%\n"
    }
   }
  },
  {
   "cell_type": "code",
   "execution_count": 16,
   "outputs": [
    {
     "name": "stdout",
     "output_type": "stream",
     "text": [
      "variance =  17.95187438016528\n"
     ]
    }
   ],
   "source": [
    "# variance\n",
    "print(\"variance = \", np.var(h))"
   ],
   "metadata": {
    "collapsed": false,
    "pycharm": {
     "name": "#%%\n"
    }
   }
  }
 ],
 "metadata": {
  "kernelspec": {
   "display_name": "Python 3",
   "language": "python",
   "name": "python3"
  },
  "language_info": {
   "codemirror_mode": {
    "name": "ipython",
    "version": 2
   },
   "file_extension": ".py",
   "mimetype": "text/x-python",
   "name": "python",
   "nbconvert_exporter": "python",
   "pygments_lexer": "ipython2",
   "version": "2.7.6"
  }
 },
 "nbformat": 4,
 "nbformat_minor": 0
}