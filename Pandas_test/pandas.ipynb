{
 "cells": [
  {
   "cell_type": "code",
   "execution_count": 14,
   "metadata": {
    "collapsed": true
   },
   "outputs": [],
   "source": [
    "import pandas as pd\n",
    "import numpy as np"
   ]
  },
  {
   "cell_type": "code",
   "execution_count": 15,
   "outputs": [
    {
     "data": {
      "text/plain": "     LatD   LatM   LatS   LonD   LonM   LonS\n0      41      5     59     80     39      0\n1      42     52     48     97     23     23\n2      46     35     59    120     30     36\n3      42     16     12     71     48      0\n4      43     37     48     89     46     11\n..    ...    ...    ...    ...    ...    ...\n123    39     31     12    119     48     35\n124    50     25     11    104     39      0\n125    40     10     48    122     14     23\n126    40     19     48     75     55     48\n127    41      9     35     81     14     23\n\n[128 rows x 6 columns]",
      "text/html": "<div>\n<style scoped>\n    .dataframe tbody tr th:only-of-type {\n        vertical-align: middle;\n    }\n\n    .dataframe tbody tr th {\n        vertical-align: top;\n    }\n\n    .dataframe thead th {\n        text-align: right;\n    }\n</style>\n<table border=\"1\" class=\"dataframe\">\n  <thead>\n    <tr style=\"text-align: right;\">\n      <th></th>\n      <th>LatD</th>\n      <th>LatM</th>\n      <th>LatS</th>\n      <th>LonD</th>\n      <th>LonM</th>\n      <th>LonS</th>\n    </tr>\n  </thead>\n  <tbody>\n    <tr>\n      <th>0</th>\n      <td>41</td>\n      <td>5</td>\n      <td>59</td>\n      <td>80</td>\n      <td>39</td>\n      <td>0</td>\n    </tr>\n    <tr>\n      <th>1</th>\n      <td>42</td>\n      <td>52</td>\n      <td>48</td>\n      <td>97</td>\n      <td>23</td>\n      <td>23</td>\n    </tr>\n    <tr>\n      <th>2</th>\n      <td>46</td>\n      <td>35</td>\n      <td>59</td>\n      <td>120</td>\n      <td>30</td>\n      <td>36</td>\n    </tr>\n    <tr>\n      <th>3</th>\n      <td>42</td>\n      <td>16</td>\n      <td>12</td>\n      <td>71</td>\n      <td>48</td>\n      <td>0</td>\n    </tr>\n    <tr>\n      <th>4</th>\n      <td>43</td>\n      <td>37</td>\n      <td>48</td>\n      <td>89</td>\n      <td>46</td>\n      <td>11</td>\n    </tr>\n    <tr>\n      <th>...</th>\n      <td>...</td>\n      <td>...</td>\n      <td>...</td>\n      <td>...</td>\n      <td>...</td>\n      <td>...</td>\n    </tr>\n    <tr>\n      <th>123</th>\n      <td>39</td>\n      <td>31</td>\n      <td>12</td>\n      <td>119</td>\n      <td>48</td>\n      <td>35</td>\n    </tr>\n    <tr>\n      <th>124</th>\n      <td>50</td>\n      <td>25</td>\n      <td>11</td>\n      <td>104</td>\n      <td>39</td>\n      <td>0</td>\n    </tr>\n    <tr>\n      <th>125</th>\n      <td>40</td>\n      <td>10</td>\n      <td>48</td>\n      <td>122</td>\n      <td>14</td>\n      <td>23</td>\n    </tr>\n    <tr>\n      <th>126</th>\n      <td>40</td>\n      <td>19</td>\n      <td>48</td>\n      <td>75</td>\n      <td>55</td>\n      <td>48</td>\n    </tr>\n    <tr>\n      <th>127</th>\n      <td>41</td>\n      <td>9</td>\n      <td>35</td>\n      <td>81</td>\n      <td>14</td>\n      <td>23</td>\n    </tr>\n  </tbody>\n</table>\n<p>128 rows × 6 columns</p>\n</div>"
     },
     "execution_count": 15,
     "metadata": {},
     "output_type": "execute_result"
    }
   ],
   "source": [
    "data = pd.read_csv(\"C:/Users/dev/Downloads/tempa.csv\", sep=',').replace('\"','', regex=True)\n",
    "data"
   ],
   "metadata": {
    "collapsed": false,
    "pycharm": {
     "name": "#%%\n"
    }
   }
  },
  {
   "cell_type": "code",
   "execution_count": 16,
   "outputs": [
    {
     "data": {
      "text/plain": "       LatM   LatS   LonD   LonM   LonS\nLatD                                   \n26       43     11     80      3      0\n27       77     24    164     57    106\n28       48     35     97      0     36\n29       78     35    179     49     11\n30       76     47    167     32     94\n31       72    105    279     54    106\n32      189    318    755    208    116\n33      253    152    676    205    188\n34       60    106    401    156    140\n35      109    118    278    144    107\n36       54    105    296    108     36\n37      275    236    896    259    295\n38      391    258   1059    208    330\n39      368    236    883    387    247\n40      208    260    720    271    189\n41      353    341   1050    268    223\n42      256    297    877    315    318\n43      244    333    722    338    237\n44      373    187    846    206    304\n45       72     34    183     35     22\n46      123    105    420     69    179\n47      114    105    481     87    143\n48        9      0    103     37     12\n49       68     60    220     16     12\n50       25     11    104     39      0",
      "text/html": "<div>\n<style scoped>\n    .dataframe tbody tr th:only-of-type {\n        vertical-align: middle;\n    }\n\n    .dataframe tbody tr th {\n        vertical-align: top;\n    }\n\n    .dataframe thead th {\n        text-align: right;\n    }\n</style>\n<table border=\"1\" class=\"dataframe\">\n  <thead>\n    <tr style=\"text-align: right;\">\n      <th></th>\n      <th>LatM</th>\n      <th>LatS</th>\n      <th>LonD</th>\n      <th>LonM</th>\n      <th>LonS</th>\n    </tr>\n    <tr>\n      <th>LatD</th>\n      <th></th>\n      <th></th>\n      <th></th>\n      <th></th>\n      <th></th>\n    </tr>\n  </thead>\n  <tbody>\n    <tr>\n      <th>26</th>\n      <td>43</td>\n      <td>11</td>\n      <td>80</td>\n      <td>3</td>\n      <td>0</td>\n    </tr>\n    <tr>\n      <th>27</th>\n      <td>77</td>\n      <td>24</td>\n      <td>164</td>\n      <td>57</td>\n      <td>106</td>\n    </tr>\n    <tr>\n      <th>28</th>\n      <td>48</td>\n      <td>35</td>\n      <td>97</td>\n      <td>0</td>\n      <td>36</td>\n    </tr>\n    <tr>\n      <th>29</th>\n      <td>78</td>\n      <td>35</td>\n      <td>179</td>\n      <td>49</td>\n      <td>11</td>\n    </tr>\n    <tr>\n      <th>30</th>\n      <td>76</td>\n      <td>47</td>\n      <td>167</td>\n      <td>32</td>\n      <td>94</td>\n    </tr>\n    <tr>\n      <th>31</th>\n      <td>72</td>\n      <td>105</td>\n      <td>279</td>\n      <td>54</td>\n      <td>106</td>\n    </tr>\n    <tr>\n      <th>32</th>\n      <td>189</td>\n      <td>318</td>\n      <td>755</td>\n      <td>208</td>\n      <td>116</td>\n    </tr>\n    <tr>\n      <th>33</th>\n      <td>253</td>\n      <td>152</td>\n      <td>676</td>\n      <td>205</td>\n      <td>188</td>\n    </tr>\n    <tr>\n      <th>34</th>\n      <td>60</td>\n      <td>106</td>\n      <td>401</td>\n      <td>156</td>\n      <td>140</td>\n    </tr>\n    <tr>\n      <th>35</th>\n      <td>109</td>\n      <td>118</td>\n      <td>278</td>\n      <td>144</td>\n      <td>107</td>\n    </tr>\n    <tr>\n      <th>36</th>\n      <td>54</td>\n      <td>105</td>\n      <td>296</td>\n      <td>108</td>\n      <td>36</td>\n    </tr>\n    <tr>\n      <th>37</th>\n      <td>275</td>\n      <td>236</td>\n      <td>896</td>\n      <td>259</td>\n      <td>295</td>\n    </tr>\n    <tr>\n      <th>38</th>\n      <td>391</td>\n      <td>258</td>\n      <td>1059</td>\n      <td>208</td>\n      <td>330</td>\n    </tr>\n    <tr>\n      <th>39</th>\n      <td>368</td>\n      <td>236</td>\n      <td>883</td>\n      <td>387</td>\n      <td>247</td>\n    </tr>\n    <tr>\n      <th>40</th>\n      <td>208</td>\n      <td>260</td>\n      <td>720</td>\n      <td>271</td>\n      <td>189</td>\n    </tr>\n    <tr>\n      <th>41</th>\n      <td>353</td>\n      <td>341</td>\n      <td>1050</td>\n      <td>268</td>\n      <td>223</td>\n    </tr>\n    <tr>\n      <th>42</th>\n      <td>256</td>\n      <td>297</td>\n      <td>877</td>\n      <td>315</td>\n      <td>318</td>\n    </tr>\n    <tr>\n      <th>43</th>\n      <td>244</td>\n      <td>333</td>\n      <td>722</td>\n      <td>338</td>\n      <td>237</td>\n    </tr>\n    <tr>\n      <th>44</th>\n      <td>373</td>\n      <td>187</td>\n      <td>846</td>\n      <td>206</td>\n      <td>304</td>\n    </tr>\n    <tr>\n      <th>45</th>\n      <td>72</td>\n      <td>34</td>\n      <td>183</td>\n      <td>35</td>\n      <td>22</td>\n    </tr>\n    <tr>\n      <th>46</th>\n      <td>123</td>\n      <td>105</td>\n      <td>420</td>\n      <td>69</td>\n      <td>179</td>\n    </tr>\n    <tr>\n      <th>47</th>\n      <td>114</td>\n      <td>105</td>\n      <td>481</td>\n      <td>87</td>\n      <td>143</td>\n    </tr>\n    <tr>\n      <th>48</th>\n      <td>9</td>\n      <td>0</td>\n      <td>103</td>\n      <td>37</td>\n      <td>12</td>\n    </tr>\n    <tr>\n      <th>49</th>\n      <td>68</td>\n      <td>60</td>\n      <td>220</td>\n      <td>16</td>\n      <td>12</td>\n    </tr>\n    <tr>\n      <th>50</th>\n      <td>25</td>\n      <td>11</td>\n      <td>104</td>\n      <td>39</td>\n      <td>0</td>\n    </tr>\n  </tbody>\n</table>\n</div>"
     },
     "execution_count": 16,
     "metadata": {},
     "output_type": "execute_result"
    }
   ],
   "source": [
    "grouped_data = data.groupby('LatD').sum()\n",
    "grouped_data"
   ],
   "metadata": {
    "collapsed": false,
    "pycharm": {
     "name": "#%%\n"
    }
   }
  },
  {
   "cell_type": "code",
   "execution_count": 17,
   "outputs": [
    {
     "data": {
      "text/plain": "     LatM   LatS   LonD   LonM   LonS\n0      43     11     80      3      0\n1      77     24    164     57    106\n2      48     35     97      0     36\n3      78     35    179     49     11\n4      76     47    167     32     94\n5      72    105    279     54    106\n6     189    318    755    208    116\n7     253    152    676    205    188\n8      60    106    401    156    140\n9     109    118    278    144    107\n10     54    105    296    108     36\n11    275    236    896    259    295\n12    391    258   1059    208    330\n13    368    236    883    387    247\n14    208    260    720    271    189\n15    353    341   1050    268    223\n16    256    297    877    315    318\n17    244    333    722    338    237\n18    373    187    846    206    304\n19     72     34    183     35     22\n20    123    105    420     69    179\n21    114    105    481     87    143\n22      9      0    103     37     12\n23     68     60    220     16     12\n24     25     11    104     39      0",
      "text/html": "<div>\n<style scoped>\n    .dataframe tbody tr th:only-of-type {\n        vertical-align: middle;\n    }\n\n    .dataframe tbody tr th {\n        vertical-align: top;\n    }\n\n    .dataframe thead th {\n        text-align: right;\n    }\n</style>\n<table border=\"1\" class=\"dataframe\">\n  <thead>\n    <tr style=\"text-align: right;\">\n      <th></th>\n      <th>LatM</th>\n      <th>LatS</th>\n      <th>LonD</th>\n      <th>LonM</th>\n      <th>LonS</th>\n    </tr>\n  </thead>\n  <tbody>\n    <tr>\n      <th>0</th>\n      <td>43</td>\n      <td>11</td>\n      <td>80</td>\n      <td>3</td>\n      <td>0</td>\n    </tr>\n    <tr>\n      <th>1</th>\n      <td>77</td>\n      <td>24</td>\n      <td>164</td>\n      <td>57</td>\n      <td>106</td>\n    </tr>\n    <tr>\n      <th>2</th>\n      <td>48</td>\n      <td>35</td>\n      <td>97</td>\n      <td>0</td>\n      <td>36</td>\n    </tr>\n    <tr>\n      <th>3</th>\n      <td>78</td>\n      <td>35</td>\n      <td>179</td>\n      <td>49</td>\n      <td>11</td>\n    </tr>\n    <tr>\n      <th>4</th>\n      <td>76</td>\n      <td>47</td>\n      <td>167</td>\n      <td>32</td>\n      <td>94</td>\n    </tr>\n    <tr>\n      <th>5</th>\n      <td>72</td>\n      <td>105</td>\n      <td>279</td>\n      <td>54</td>\n      <td>106</td>\n    </tr>\n    <tr>\n      <th>6</th>\n      <td>189</td>\n      <td>318</td>\n      <td>755</td>\n      <td>208</td>\n      <td>116</td>\n    </tr>\n    <tr>\n      <th>7</th>\n      <td>253</td>\n      <td>152</td>\n      <td>676</td>\n      <td>205</td>\n      <td>188</td>\n    </tr>\n    <tr>\n      <th>8</th>\n      <td>60</td>\n      <td>106</td>\n      <td>401</td>\n      <td>156</td>\n      <td>140</td>\n    </tr>\n    <tr>\n      <th>9</th>\n      <td>109</td>\n      <td>118</td>\n      <td>278</td>\n      <td>144</td>\n      <td>107</td>\n    </tr>\n    <tr>\n      <th>10</th>\n      <td>54</td>\n      <td>105</td>\n      <td>296</td>\n      <td>108</td>\n      <td>36</td>\n    </tr>\n    <tr>\n      <th>11</th>\n      <td>275</td>\n      <td>236</td>\n      <td>896</td>\n      <td>259</td>\n      <td>295</td>\n    </tr>\n    <tr>\n      <th>12</th>\n      <td>391</td>\n      <td>258</td>\n      <td>1059</td>\n      <td>208</td>\n      <td>330</td>\n    </tr>\n    <tr>\n      <th>13</th>\n      <td>368</td>\n      <td>236</td>\n      <td>883</td>\n      <td>387</td>\n      <td>247</td>\n    </tr>\n    <tr>\n      <th>14</th>\n      <td>208</td>\n      <td>260</td>\n      <td>720</td>\n      <td>271</td>\n      <td>189</td>\n    </tr>\n    <tr>\n      <th>15</th>\n      <td>353</td>\n      <td>341</td>\n      <td>1050</td>\n      <td>268</td>\n      <td>223</td>\n    </tr>\n    <tr>\n      <th>16</th>\n      <td>256</td>\n      <td>297</td>\n      <td>877</td>\n      <td>315</td>\n      <td>318</td>\n    </tr>\n    <tr>\n      <th>17</th>\n      <td>244</td>\n      <td>333</td>\n      <td>722</td>\n      <td>338</td>\n      <td>237</td>\n    </tr>\n    <tr>\n      <th>18</th>\n      <td>373</td>\n      <td>187</td>\n      <td>846</td>\n      <td>206</td>\n      <td>304</td>\n    </tr>\n    <tr>\n      <th>19</th>\n      <td>72</td>\n      <td>34</td>\n      <td>183</td>\n      <td>35</td>\n      <td>22</td>\n    </tr>\n    <tr>\n      <th>20</th>\n      <td>123</td>\n      <td>105</td>\n      <td>420</td>\n      <td>69</td>\n      <td>179</td>\n    </tr>\n    <tr>\n      <th>21</th>\n      <td>114</td>\n      <td>105</td>\n      <td>481</td>\n      <td>87</td>\n      <td>143</td>\n    </tr>\n    <tr>\n      <th>22</th>\n      <td>9</td>\n      <td>0</td>\n      <td>103</td>\n      <td>37</td>\n      <td>12</td>\n    </tr>\n    <tr>\n      <th>23</th>\n      <td>68</td>\n      <td>60</td>\n      <td>220</td>\n      <td>16</td>\n      <td>12</td>\n    </tr>\n    <tr>\n      <th>24</th>\n      <td>25</td>\n      <td>11</td>\n      <td>104</td>\n      <td>39</td>\n      <td>0</td>\n    </tr>\n  </tbody>\n</table>\n</div>"
     },
     "execution_count": 17,
     "metadata": {},
     "output_type": "execute_result"
    }
   ],
   "source": [
    "resetindex = grouped_data.reset_index(drop=True)\n",
    "resetindex"
   ],
   "metadata": {
    "collapsed": false,
    "pycharm": {
     "name": "#%%\n"
    }
   }
  }
 ],
 "metadata": {
  "kernelspec": {
   "display_name": "Python 3",
   "language": "python",
   "name": "python3"
  },
  "language_info": {
   "codemirror_mode": {
    "name": "ipython",
    "version": 2
   },
   "file_extension": ".py",
   "mimetype": "text/x-python",
   "name": "python",
   "nbconvert_exporter": "python",
   "pygments_lexer": "ipython2",
   "version": "2.7.6"
  }
 },
 "nbformat": 4,
 "nbformat_minor": 0
}